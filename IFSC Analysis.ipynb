{
 "cells": [
  {
   "cell_type": "markdown",
   "id": "1e3da58a-a294-46e0-87b3-e1247c1f4598",
   "metadata": {},
   "source": [
    "# IFSC Analysis\n",
    "## Import Libraries & Tools"
   ]
  },
  {
   "cell_type": "code",
   "execution_count": 1,
   "id": "7dec7d43-ca08-4ff2-8c4f-c4e3538ec43d",
   "metadata": {
    "execution": {
     "iopub.execute_input": "2023-04-22T00:17:13.446997Z",
     "iopub.status.busy": "2023-04-22T00:17:13.446997Z",
     "iopub.status.idle": "2023-04-22T00:17:13.900311Z",
     "shell.execute_reply": "2023-04-22T00:17:13.900311Z",
     "shell.execute_reply.started": "2023-04-22T00:17:13.446997Z"
    },
    "tags": []
   },
   "outputs": [
    {
     "data": {
      "text/html": [
       "        <script type=\"text/javascript\">\n",
       "        window.PlotlyConfig = {MathJaxConfig: 'local'};\n",
       "        if (window.MathJax && window.MathJax.Hub && window.MathJax.Hub.Config) {window.MathJax.Hub.Config({SVG: {font: \"STIX-Web\"}});}\n",
       "        if (typeof require !== 'undefined') {\n",
       "        require.undef(\"plotly\");\n",
       "        requirejs.config({\n",
       "            paths: {\n",
       "                'plotly': ['https://cdn.plot.ly/plotly-2.20.0.min']\n",
       "            }\n",
       "        });\n",
       "        require(['plotly'], function(Plotly) {\n",
       "            window._Plotly = Plotly;\n",
       "        });\n",
       "        }\n",
       "        </script>\n",
       "        "
      ]
     },
     "metadata": {},
     "output_type": "display_data"
    },
    {
     "data": {
      "text/html": [
       "        <script type=\"text/javascript\">\n",
       "        window.PlotlyConfig = {MathJaxConfig: 'local'};\n",
       "        if (window.MathJax && window.MathJax.Hub && window.MathJax.Hub.Config) {window.MathJax.Hub.Config({SVG: {font: \"STIX-Web\"}});}\n",
       "        if (typeof require !== 'undefined') {\n",
       "        require.undef(\"plotly\");\n",
       "        requirejs.config({\n",
       "            paths: {\n",
       "                'plotly': ['https://cdn.plot.ly/plotly-2.20.0.min']\n",
       "            }\n",
       "        });\n",
       "        require(['plotly'], function(Plotly) {\n",
       "            window._Plotly = Plotly;\n",
       "        });\n",
       "        }\n",
       "        </script>\n",
       "        "
      ]
     },
     "metadata": {},
     "output_type": "display_data"
    }
   ],
   "source": [
    "import pandas as pd\n",
    "import numpy as np\n",
    "import glob\n",
    "import os\n",
    "import re\n",
    "\n",
    "import seaborn as sns\n",
    "import cufflinks as cf\n",
    "import chart_studio.plotly as py\n",
    "import plotly.express as px\n",
    "import plotly.graph_objects as go\n",
    "import matplotlib.pyplot as plt\n",
    "%matplotlib inline\n",
    "\n",
    "from plotly.offline import download_plotlyjs, init_notebook_mode, plot, iplot\n",
    "init_notebook_mode(connected=True)\n",
    "cf.go_offline()"
   ]
  },
  {
   "cell_type": "markdown",
   "id": "39f6a77e-53ee-4e9f-80c5-667e1d6c715f",
   "metadata": {},
   "source": [
    "## Setting Up Directory Structure"
   ]
  },
  {
   "cell_type": "code",
   "execution_count": 2,
   "id": "605ebbf6-1cd5-4f06-97cb-c2264c3235d3",
   "metadata": {
    "execution": {
     "iopub.execute_input": "2023-04-22T00:17:13.902263Z",
     "iopub.status.busy": "2023-04-22T00:17:13.901287Z",
     "iopub.status.idle": "2023-04-22T00:17:13.906167Z",
     "shell.execute_reply": "2023-04-22T00:17:13.906167Z",
     "shell.execute_reply.started": "2023-04-22T00:17:13.901287Z"
    },
    "tags": []
   },
   "outputs": [],
   "source": [
    "DATA_DIR = os.path.join(\n",
    "    os.path.dirname(os.path.realpath(\"__file__\")), \"data\"\n",
    ")\n",
    "\n",
    "BOULDER_MEN_DIR   = os.path.join(DATA_DIR, \"Boulder/Men\")\n",
    "BOULDER_WOMEN_DIR = os.path.join(DATA_DIR, \"Boulder/Women\")"
   ]
  },
  {
   "cell_type": "markdown",
   "id": "11397150-3858-4b52-92ef-de3c3479a3aa",
   "metadata": {},
   "source": [
    "## Helper Functions"
   ]
  },
  {
   "cell_type": "code",
   "execution_count": 3,
   "id": "db0d6ccf-bffc-459e-a1c7-0dbe18f3f589",
   "metadata": {
    "execution": {
     "iopub.execute_input": "2023-04-22T00:17:13.907666Z",
     "iopub.status.busy": "2023-04-22T00:17:13.907666Z",
     "iopub.status.idle": "2023-04-22T00:17:13.920849Z",
     "shell.execute_reply": "2023-04-22T00:17:13.920849Z",
     "shell.execute_reply.started": "2023-04-22T00:17:13.907666Z"
    },
    "tags": []
   },
   "outputs": [],
   "source": [
    "def clean_boulder(df):\n",
    "    \"\"\"\n",
    "    Returns a dataframe where each score has been broken out\n",
    "    into multiple columns for easier manipulation.\n",
    "    \n",
    "    df: dataframe containing results for all bouldering events\n",
    "    \"\"\"\n",
    "    # Gets tops and zones for qualifications\n",
    "    df[['Q_Top', 'Q_Zone']] = df['Qualification'].str.split('T', expand=True)\n",
    "    df['Q_Zone'] = df['Q_Zone'].str.split('Z', expand=True)[0]\n",
    "    df[['Qualification', 'Q_Top_Att', 'Q_Zone_Att']] = df['Qualification'].str.split(expand=True)\n",
    "\n",
    "    # Gets tops and zones for semi-finals\n",
    "    df[['S_Top', 'S_Zone']] = df['Semi-Final'].str.split('T', expand=True)\n",
    "    df['S_Zone'] = df['S_Zone'].str.split('Z', expand=True)[0]\n",
    "    df[['Semi-Final', 'S_Top_Att', 'S_Zone_Att']] = df['Semi-Final'].str.split(expand=True)\n",
    "\n",
    "    # Gets tops and zones for finals\n",
    "    df[['F_Top', 'F_Zone']] = df['Final'].str.split('T', expand=True)\n",
    "    df['F_Zone'] = df['F_Zone'].str.split('Z', expand=True)[0]\n",
    "    df[['Final', 'F_Top_Att', 'F_Zone_Att']] = df['Final'].str.split(expand=True)\n",
    "\n",
    "    new_cols = ['Q_Top', 'Q_Zone', 'Q_Top_Att', 'Q_Zone_Att',\n",
    "                'S_Top', 'S_Zone', 'S_Top_Att', 'S_Zone_Att',\n",
    "                'F_Top', 'F_Zone', 'F_Top_Att', 'F_Zone_Att']\n",
    "\n",
    "    # Convert all new columns to int\n",
    "    for col in new_cols:\n",
    "        df[col] = df[col].astype('float', errors = 'ignore')\n",
    "\n",
    "    return df\n",
    "\n",
    "# Function to correct the old scoring syntax\n",
    "def convert_score(score):\n",
    "    \"\"\"\n",
    "    Returns a new string representing the converted score.\n",
    "    Old syntax: xTw yBz\n",
    "    New syntax: xTyZ w x\n",
    "    x,y,w,z: number of attempts\n",
    "    T, B/Z: tops & zones, respectively\n",
    "    \n",
    "    score: string representation of climber's results\n",
    "    \"\"\"\n",
    "    if score:\n",
    "        tmp = str(score)\n",
    "        if 'b' in tmp.lower():\n",
    "            tops, top_att = tmp.lower().split()[0].split('t')\n",
    "            zones, zone_att = tmp.lower().split()[1].split('b')\n",
    "\n",
    "            new_score = tops + 'T' + zones + 'Z ' + top_att + ' ' + zone_att\n",
    "            return new_score\n",
    "        return score\n",
    "    return score\n",
    "\n",
    "# Function to display a single climber's results\n",
    "def check_climber(df, name):\n",
    "    \"\"\"\n",
    "    Returns a dataframe showing results for each event for given\n",
    "    climber.\n",
    "    \n",
    "    df: dataframe containing results for all bouldering events\n",
    "    name: name of climber you want to examine\n",
    "    \"\"\"\n",
    "    name = name.upper()\n",
    "    individual = df.groupby(df['Name']).get_group(name)\n",
    "    return individual\n",
    "\n",
    "# Function to show the count of a climber's round appearances\n",
    "def count_round_appearances(df, name):\n",
    "    \"\"\"\n",
    "    Prints a count of the number of times a climber has made it\n",
    "    to a specific round.\n",
    "    \n",
    "    df: df containing results from all scraped events\n",
    "    name: name of climber you want to examine\n",
    "    \"\"\"\n",
    "    name = name.upper()\n",
    "    # Gets number of time climber appeared for each round\n",
    "    q = df.groupby(df['Name']).get_group(name).count()['Qualification']\n",
    "    s = df.groupby(df['Name']).get_group(name).count()['Semi-Final']\n",
    "    f = df.groupby(df['Name']).get_group(name).count()['Final']\n",
    "    \n",
    "    print(f'{name} appearances:')\n",
    "    print(f'{\"Qualification round:\" :>20} {q :>3}')\n",
    "    print(f'{\"Semi-Final round:\" :>20} {s :>3}')\n",
    "    print(f'{\"Final round:\" :>20} {f :>3}')\n",
    "    \n",
    "def get_bouldering_results(directory):\n",
    "    \"\"\"\n",
    "    Combines all .csv files in given directory into a single dataframe.\n",
    "    \n",
    "    directory: directory containing all the .csv files\n",
    "    \"\"\"\n",
    "    # Grabs all .csv files in given directory and combine into dataframe\n",
    "    all_files = glob.glob(os.path.join(directory, \"*.csv\"))\n",
    "    df = pd.concat((pd.read_csv(f) for f in all_files), ignore_index=True)\n",
    "    \n",
    "    # Clean up some column/datatype issues\n",
    "    df['Year'] = df['Event'].apply(lambda x: re.search(\"(\\d{4})\", x).group(1)) # Gets year of event\n",
    "    df['Event'] = df['Event'].str.replace('IFSC - C', 'IFSC C').str.replace('Worldcup', 'World Cup')\n",
    "    df['Rank'] = df['Rank'].fillna(-1).astype('int') # Fixes DNS rank\n",
    "    df['Qualification'] = df['Qualification'].apply(convert_score) # Fixes old scoring syntax\n",
    "    df['Semi-Final'] = df['Semi-Final'].apply(convert_score)\n",
    "    df['Final'] = df['Final'].apply(convert_score)\n",
    "    return df"
   ]
  },
  {
   "cell_type": "markdown",
   "id": "8cdc3c2d-3a93-4cac-ad1d-9228e60ec7c0",
   "metadata": {},
   "source": [
    "## Import Scraped Data"
   ]
  },
  {
   "cell_type": "code",
   "execution_count": 4,
   "id": "532c80d0-3611-4d81-8225-3c5bfe1615c2",
   "metadata": {
    "execution": {
     "iopub.execute_input": "2023-04-22T00:17:13.921826Z",
     "iopub.status.busy": "2023-04-22T00:17:13.921826Z",
     "iopub.status.idle": "2023-04-22T00:17:14.580732Z",
     "shell.execute_reply": "2023-04-22T00:17:14.580480Z",
     "shell.execute_reply.started": "2023-04-22T00:17:13.921826Z"
    },
    "tags": []
   },
   "outputs": [
    {
     "data": {
      "text/html": [
       "<div>\n",
       "<style scoped>\n",
       "    .dataframe tbody tr th:only-of-type {\n",
       "        vertical-align: middle;\n",
       "    }\n",
       "\n",
       "    .dataframe tbody tr th {\n",
       "        vertical-align: top;\n",
       "    }\n",
       "\n",
       "    .dataframe thead th {\n",
       "        text-align: right;\n",
       "    }\n",
       "</style>\n",
       "<table border=\"1\" class=\"dataframe\">\n",
       "  <thead>\n",
       "    <tr style=\"text-align: right;\">\n",
       "      <th></th>\n",
       "      <th>Event</th>\n",
       "      <th>ID</th>\n",
       "      <th>Rank</th>\n",
       "      <th>Name</th>\n",
       "      <th>Country</th>\n",
       "      <th>Qualification</th>\n",
       "      <th>Semi-Final</th>\n",
       "      <th>Final</th>\n",
       "      <th>Year</th>\n",
       "    </tr>\n",
       "  </thead>\n",
       "  <tbody>\n",
       "    <tr>\n",
       "      <th>0</th>\n",
       "      <td>IFSC Climbing World Cup (B) - Hall (AUT) 2007</td>\n",
       "      <td>1204</td>\n",
       "      <td>1</td>\n",
       "      <td>KILIAN FISCHHUBER</td>\n",
       "      <td>AUT</td>\n",
       "      <td>6T6Z 11 9</td>\n",
       "      <td>4T4Z 11 8</td>\n",
       "      <td>4T4Z 8 5</td>\n",
       "      <td>2007</td>\n",
       "    </tr>\n",
       "    <tr>\n",
       "      <th>1</th>\n",
       "      <td>IFSC Climbing World Cup (B) - Hall (AUT) 2007</td>\n",
       "      <td>3577</td>\n",
       "      <td>2</td>\n",
       "      <td>JORG VERHOEVEN</td>\n",
       "      <td>NED</td>\n",
       "      <td>5T6Z 9 10</td>\n",
       "      <td>3T4Z 5 4</td>\n",
       "      <td>4T4Z 9 5</td>\n",
       "      <td>2007</td>\n",
       "    </tr>\n",
       "    <tr>\n",
       "      <th>2</th>\n",
       "      <td>IFSC Climbing World Cup (B) - Hall (AUT) 2007</td>\n",
       "      <td>4783</td>\n",
       "      <td>3</td>\n",
       "      <td>AKITO MATSUSHIMA</td>\n",
       "      <td>JPN</td>\n",
       "      <td>3T6Z 4 15</td>\n",
       "      <td>3T3Z 10 3</td>\n",
       "      <td>2T2Z 7 4</td>\n",
       "      <td>2007</td>\n",
       "    </tr>\n",
       "    <tr>\n",
       "      <th>3</th>\n",
       "      <td>IFSC Climbing World Cup (B) - Hall (AUT) 2007</td>\n",
       "      <td>1213</td>\n",
       "      <td>4</td>\n",
       "      <td>DAVID LAMA</td>\n",
       "      <td>AUT</td>\n",
       "      <td>4T6Z 7 9</td>\n",
       "      <td>3T4Z 7 8</td>\n",
       "      <td>2T4Z 8 10</td>\n",
       "      <td>2007</td>\n",
       "    </tr>\n",
       "    <tr>\n",
       "      <th>4</th>\n",
       "      <td>IFSC Climbing World Cup (B) - Hall (AUT) 2007</td>\n",
       "      <td>849</td>\n",
       "      <td>5</td>\n",
       "      <td>GABRIELE MORONI</td>\n",
       "      <td>ITA</td>\n",
       "      <td>4T5Z 11 11</td>\n",
       "      <td>3T4Z 5 5</td>\n",
       "      <td>1T3Z 3 4</td>\n",
       "      <td>2007</td>\n",
       "    </tr>\n",
       "    <tr>\n",
       "      <th>...</th>\n",
       "      <td>...</td>\n",
       "      <td>...</td>\n",
       "      <td>...</td>\n",
       "      <td>...</td>\n",
       "      <td>...</td>\n",
       "      <td>...</td>\n",
       "      <td>...</td>\n",
       "      <td>...</td>\n",
       "      <td>...</td>\n",
       "    </tr>\n",
       "    <tr>\n",
       "      <th>7786</th>\n",
       "      <td>IFSC Climbing World Cup (B,S) - Seoul (KOR) 2022</td>\n",
       "      <td>3665</td>\n",
       "      <td>48</td>\n",
       "      <td>LUKE GOH WEN BIN</td>\n",
       "      <td>SGP</td>\n",
       "      <td>0T1Z 0 2</td>\n",
       "      <td>NaN</td>\n",
       "      <td>NaN</td>\n",
       "      <td>2022</td>\n",
       "    </tr>\n",
       "    <tr>\n",
       "      <th>7787</th>\n",
       "      <td>IFSC Climbing World Cup (B,S) - Seoul (KOR) 2022</td>\n",
       "      <td>11859</td>\n",
       "      <td>48</td>\n",
       "      <td>DOHYEON KIM</td>\n",
       "      <td>KOR</td>\n",
       "      <td>0T1Z 0 2</td>\n",
       "      <td>NaN</td>\n",
       "      <td>NaN</td>\n",
       "      <td>2022</td>\n",
       "    </tr>\n",
       "    <tr>\n",
       "      <th>7788</th>\n",
       "      <td>IFSC Climbing World Cup (B,S) - Seoul (KOR) 2022</td>\n",
       "      <td>2120</td>\n",
       "      <td>51</td>\n",
       "      <td>SUNGHOON PARK</td>\n",
       "      <td>KOR</td>\n",
       "      <td>0T1Z 0 5</td>\n",
       "      <td>NaN</td>\n",
       "      <td>NaN</td>\n",
       "      <td>2022</td>\n",
       "    </tr>\n",
       "    <tr>\n",
       "      <th>7789</th>\n",
       "      <td>IFSC Climbing World Cup (B,S) - Seoul (KOR) 2022</td>\n",
       "      <td>13548</td>\n",
       "      <td>52</td>\n",
       "      <td>MUHAMMAD FERZA FERNADA ABDI</td>\n",
       "      <td>INA</td>\n",
       "      <td>0T0Z 0 0</td>\n",
       "      <td>NaN</td>\n",
       "      <td>NaN</td>\n",
       "      <td>2022</td>\n",
       "    </tr>\n",
       "    <tr>\n",
       "      <th>7790</th>\n",
       "      <td>IFSC Climbing World Cup (B,S) - Seoul (KOR) 2022</td>\n",
       "      <td>13553</td>\n",
       "      <td>52</td>\n",
       "      <td>MINSUNG HAN</td>\n",
       "      <td>KOR</td>\n",
       "      <td>0T0Z 0 0</td>\n",
       "      <td>NaN</td>\n",
       "      <td>NaN</td>\n",
       "      <td>2022</td>\n",
       "    </tr>\n",
       "  </tbody>\n",
       "</table>\n",
       "<p>7791 rows × 9 columns</p>\n",
       "</div>"
      ],
      "text/plain": [
       "                                                 Event     ID  Rank   \n",
       "0        IFSC Climbing World Cup (B) - Hall (AUT) 2007   1204     1  \\\n",
       "1        IFSC Climbing World Cup (B) - Hall (AUT) 2007   3577     2   \n",
       "2        IFSC Climbing World Cup (B) - Hall (AUT) 2007   4783     3   \n",
       "3        IFSC Climbing World Cup (B) - Hall (AUT) 2007   1213     4   \n",
       "4        IFSC Climbing World Cup (B) - Hall (AUT) 2007    849     5   \n",
       "...                                                ...    ...   ...   \n",
       "7786  IFSC Climbing World Cup (B,S) - Seoul (KOR) 2022   3665    48   \n",
       "7787  IFSC Climbing World Cup (B,S) - Seoul (KOR) 2022  11859    48   \n",
       "7788  IFSC Climbing World Cup (B,S) - Seoul (KOR) 2022   2120    51   \n",
       "7789  IFSC Climbing World Cup (B,S) - Seoul (KOR) 2022  13548    52   \n",
       "7790  IFSC Climbing World Cup (B,S) - Seoul (KOR) 2022  13553    52   \n",
       "\n",
       "                             Name Country Qualification Semi-Final      Final   \n",
       "0               KILIAN FISCHHUBER     AUT     6T6Z 11 9  4T4Z 11 8   4T4Z 8 5  \\\n",
       "1                  JORG VERHOEVEN     NED     5T6Z 9 10   3T4Z 5 4   4T4Z 9 5   \n",
       "2                AKITO MATSUSHIMA     JPN     3T6Z 4 15  3T3Z 10 3   2T2Z 7 4   \n",
       "3                      DAVID LAMA     AUT      4T6Z 7 9   3T4Z 7 8  2T4Z 8 10   \n",
       "4                 GABRIELE MORONI     ITA    4T5Z 11 11   3T4Z 5 5   1T3Z 3 4   \n",
       "...                           ...     ...           ...        ...        ...   \n",
       "7786             LUKE GOH WEN BIN     SGP      0T1Z 0 2        NaN        NaN   \n",
       "7787                  DOHYEON KIM     KOR      0T1Z 0 2        NaN        NaN   \n",
       "7788                SUNGHOON PARK     KOR      0T1Z 0 5        NaN        NaN   \n",
       "7789  MUHAMMAD FERZA FERNADA ABDI     INA      0T0Z 0 0        NaN        NaN   \n",
       "7790                  MINSUNG HAN     KOR      0T0Z 0 0        NaN        NaN   \n",
       "\n",
       "      Year  \n",
       "0     2007  \n",
       "1     2007  \n",
       "2     2007  \n",
       "3     2007  \n",
       "4     2007  \n",
       "...    ...  \n",
       "7786  2022  \n",
       "7787  2022  \n",
       "7788  2022  \n",
       "7789  2022  \n",
       "7790  2022  \n",
       "\n",
       "[7791 rows x 9 columns]"
      ]
     },
     "execution_count": 4,
     "metadata": {},
     "output_type": "execute_result"
    }
   ],
   "source": [
    "boulder_men_all_results = get_bouldering_results(BOULDER_MEN_DIR)\n",
    "boulder_men_all_results"
   ]
  },
  {
   "cell_type": "markdown",
   "id": "eb3eb3de-4243-439e-a470-c559eee14f0a",
   "metadata": {},
   "source": [
    "As we can see from the above, there are almost 7800 rows of data across *all* of the World Cup events we scraped earlier. If we want to look at the results of just a single climber, or perhaps get the number of times that climber appeared in each round of events, we can run the following functions."
   ]
  },
  {
   "cell_type": "code",
   "execution_count": 5,
   "id": "3bea891d-88be-4450-9595-bc31c1761853",
   "metadata": {
    "execution": {
     "iopub.execute_input": "2023-04-22T00:17:14.581457Z",
     "iopub.status.busy": "2023-04-22T00:17:14.580732Z",
     "iopub.status.idle": "2023-04-22T00:17:14.593172Z",
     "shell.execute_reply": "2023-04-22T00:17:14.593172Z",
     "shell.execute_reply.started": "2023-04-22T00:17:14.581457Z"
    },
    "tags": []
   },
   "outputs": [
    {
     "data": {
      "text/html": [
       "<div>\n",
       "<style scoped>\n",
       "    .dataframe tbody tr th:only-of-type {\n",
       "        vertical-align: middle;\n",
       "    }\n",
       "\n",
       "    .dataframe tbody tr th {\n",
       "        vertical-align: top;\n",
       "    }\n",
       "\n",
       "    .dataframe thead th {\n",
       "        text-align: right;\n",
       "    }\n",
       "</style>\n",
       "<table border=\"1\" class=\"dataframe\">\n",
       "  <thead>\n",
       "    <tr style=\"text-align: right;\">\n",
       "      <th></th>\n",
       "      <th>Event</th>\n",
       "      <th>ID</th>\n",
       "      <th>Rank</th>\n",
       "      <th>Name</th>\n",
       "      <th>Country</th>\n",
       "      <th>Qualification</th>\n",
       "      <th>Semi-Final</th>\n",
       "      <th>Final</th>\n",
       "      <th>Year</th>\n",
       "    </tr>\n",
       "  </thead>\n",
       "  <tbody>\n",
       "    <tr>\n",
       "      <th>3049</th>\n",
       "      <td>IFSC Climbing World Cup (B,S) - Chongqing (CHN...</td>\n",
       "      <td>2052</td>\n",
       "      <td>7</td>\n",
       "      <td>JONGWON CHON</td>\n",
       "      <td>KOR</td>\n",
       "      <td>3T5Z 4 18</td>\n",
       "      <td>1T3Z 2 6</td>\n",
       "      <td>NaN</td>\n",
       "      <td>2014</td>\n",
       "    </tr>\n",
       "    <tr>\n",
       "      <th>3117</th>\n",
       "      <td>IFSC Climbing World Championship (B) - Munich ...</td>\n",
       "      <td>2052</td>\n",
       "      <td>35</td>\n",
       "      <td>JONGWON CHON</td>\n",
       "      <td>KOR</td>\n",
       "      <td>2T4Z 7 7</td>\n",
       "      <td>NaN</td>\n",
       "      <td>NaN</td>\n",
       "      <td>2014</td>\n",
       "    </tr>\n",
       "    <tr>\n",
       "      <th>3198</th>\n",
       "      <td>IFSC Climbing World Cup (L, B, S) - Haiyang (C...</td>\n",
       "      <td>2052</td>\n",
       "      <td>4</td>\n",
       "      <td>JONGWON CHON</td>\n",
       "      <td>KOR</td>\n",
       "      <td>4T5Z 5 7</td>\n",
       "      <td>1T2Z 3 3</td>\n",
       "      <td>0T2Z  4</td>\n",
       "      <td>2014</td>\n",
       "    </tr>\n",
       "    <tr>\n",
       "      <th>3234</th>\n",
       "      <td>IFSC Climbing World Cup (B) - Laval (FRA) 2014</td>\n",
       "      <td>2052</td>\n",
       "      <td>15</td>\n",
       "      <td>JONGWON CHON</td>\n",
       "      <td>KOR</td>\n",
       "      <td>5T5Z 10 9</td>\n",
       "      <td>2T3Z 3 4</td>\n",
       "      <td>NaN</td>\n",
       "      <td>2014</td>\n",
       "    </tr>\n",
       "    <tr>\n",
       "      <th>3292</th>\n",
       "      <td>IFSC Climbing World Cup (B) - Vail (USA) 2014</td>\n",
       "      <td>2052</td>\n",
       "      <td>16</td>\n",
       "      <td>JONGWON CHON</td>\n",
       "      <td>KOR</td>\n",
       "      <td>3T4Z 5 5</td>\n",
       "      <td>2T3Z 7 6</td>\n",
       "      <td>NaN</td>\n",
       "      <td>2014</td>\n",
       "    </tr>\n",
       "    <tr>\n",
       "      <th>3530</th>\n",
       "      <td>IFSC Climbing World Cup (B) - Toronto (CAN) 2014</td>\n",
       "      <td>2052</td>\n",
       "      <td>4</td>\n",
       "      <td>JONGWON CHON</td>\n",
       "      <td>KOR</td>\n",
       "      <td>3T5Z 8 10</td>\n",
       "      <td>3T4Z 5 7</td>\n",
       "      <td>2T3Z 7 10</td>\n",
       "      <td>2014</td>\n",
       "    </tr>\n",
       "    <tr>\n",
       "      <th>3570</th>\n",
       "      <td>IFSC Climbing World Cup (B) - Munich (GER) 2015</td>\n",
       "      <td>2052</td>\n",
       "      <td>3</td>\n",
       "      <td>JONGWON CHON</td>\n",
       "      <td>KOR</td>\n",
       "      <td>3T5Z 4 12</td>\n",
       "      <td>3T3Z 7 6</td>\n",
       "      <td>1T3Z 1 5</td>\n",
       "      <td>2015</td>\n",
       "    </tr>\n",
       "    <tr>\n",
       "      <th>3693</th>\n",
       "      <td>IFSC Climbing World Cup (B,S) - Chongqing (CHN...</td>\n",
       "      <td>2052</td>\n",
       "      <td>2</td>\n",
       "      <td>JONGWON CHON</td>\n",
       "      <td>KOR</td>\n",
       "      <td>5T5Z 6 6</td>\n",
       "      <td>4T4Z 6 6</td>\n",
       "      <td>3T3Z 5 3</td>\n",
       "      <td>2015</td>\n",
       "    </tr>\n",
       "    <tr>\n",
       "      <th>3748</th>\n",
       "      <td>IFSC Climbing World Cup (B,S) - Haiyang (CHN) ...</td>\n",
       "      <td>2052</td>\n",
       "      <td>1</td>\n",
       "      <td>JONGWON CHON</td>\n",
       "      <td>KOR</td>\n",
       "      <td>5T5Z 6 6</td>\n",
       "      <td>3T4Z 3 4</td>\n",
       "      <td>2T2Z 3 2</td>\n",
       "      <td>2015</td>\n",
       "    </tr>\n",
       "    <tr>\n",
       "      <th>3833</th>\n",
       "      <td>IFSC Climbing World Cup (B) - Vail (USA) 2015</td>\n",
       "      <td>2052</td>\n",
       "      <td>33</td>\n",
       "      <td>JONGWON CHON</td>\n",
       "      <td>KOR</td>\n",
       "      <td>3T3Z 5 4</td>\n",
       "      <td>NaN</td>\n",
       "      <td>NaN</td>\n",
       "      <td>2015</td>\n",
       "    </tr>\n",
       "  </tbody>\n",
       "</table>\n",
       "</div>"
      ],
      "text/plain": [
       "                                                  Event    ID  Rank   \n",
       "3049  IFSC Climbing World Cup (B,S) - Chongqing (CHN...  2052     7  \\\n",
       "3117  IFSC Climbing World Championship (B) - Munich ...  2052    35   \n",
       "3198  IFSC Climbing World Cup (L, B, S) - Haiyang (C...  2052     4   \n",
       "3234     IFSC Climbing World Cup (B) - Laval (FRA) 2014  2052    15   \n",
       "3292      IFSC Climbing World Cup (B) - Vail (USA) 2014  2052    16   \n",
       "3530   IFSC Climbing World Cup (B) - Toronto (CAN) 2014  2052     4   \n",
       "3570    IFSC Climbing World Cup (B) - Munich (GER) 2015  2052     3   \n",
       "3693  IFSC Climbing World Cup (B,S) - Chongqing (CHN...  2052     2   \n",
       "3748  IFSC Climbing World Cup (B,S) - Haiyang (CHN) ...  2052     1   \n",
       "3833      IFSC Climbing World Cup (B) - Vail (USA) 2015  2052    33   \n",
       "\n",
       "              Name Country Qualification Semi-Final      Final  Year  \n",
       "3049  JONGWON CHON     KOR     3T5Z 4 18   1T3Z 2 6        NaN  2014  \n",
       "3117  JONGWON CHON     KOR      2T4Z 7 7        NaN        NaN  2014  \n",
       "3198  JONGWON CHON     KOR      4T5Z 5 7   1T2Z 3 3    0T2Z  4  2014  \n",
       "3234  JONGWON CHON     KOR     5T5Z 10 9   2T3Z 3 4        NaN  2014  \n",
       "3292  JONGWON CHON     KOR      3T4Z 5 5   2T3Z 7 6        NaN  2014  \n",
       "3530  JONGWON CHON     KOR     3T5Z 8 10   3T4Z 5 7  2T3Z 7 10  2014  \n",
       "3570  JONGWON CHON     KOR     3T5Z 4 12   3T3Z 7 6   1T3Z 1 5  2015  \n",
       "3693  JONGWON CHON     KOR      5T5Z 6 6   4T4Z 6 6   3T3Z 5 3  2015  \n",
       "3748  JONGWON CHON     KOR      5T5Z 6 6   3T4Z 3 4   2T2Z 3 2  2015  \n",
       "3833  JONGWON CHON     KOR      3T3Z 5 4        NaN        NaN  2015  "
      ]
     },
     "execution_count": 5,
     "metadata": {},
     "output_type": "execute_result"
    }
   ],
   "source": [
    "individual = check_climber(boulder_men_all_results, 'jongwon chon')\n",
    "individual.head(10)"
   ]
  },
  {
   "cell_type": "code",
   "execution_count": 6,
   "id": "fdf57076-d750-43fb-9fff-f93d76cdceee",
   "metadata": {
    "execution": {
     "iopub.execute_input": "2023-04-22T00:17:14.594149Z",
     "iopub.status.busy": "2023-04-22T00:17:14.594149Z",
     "iopub.status.idle": "2023-04-22T00:17:14.609764Z",
     "shell.execute_reply": "2023-04-22T00:17:14.609764Z",
     "shell.execute_reply.started": "2023-04-22T00:17:14.594149Z"
    },
    "tags": []
   },
   "outputs": [
    {
     "name": "stdout",
     "output_type": "stream",
     "text": [
      "JONGWON CHON appearances:\n",
      "Qualification round:  46\n",
      "   Semi-Final round:  41\n",
      "        Final round:  25\n"
     ]
    }
   ],
   "source": [
    "count_round_appearances(boulder_men_all_results, 'jongwon chon')"
   ]
  },
  {
   "cell_type": "markdown",
   "id": "037c57b0-e962-4fe2-b7cc-e183cce49faf",
   "metadata": {},
   "source": [
    "# Climber Statistics\n",
    "## Individual Climber Results\n",
    "\n",
    "Now we can look at the entirety of the results for men's bouldering (the exact same process can be followed for women's bouldering). The following function first checks to see if we have a .csv file that contains all of the data already. If we do, it loads it. If not, then it creates a new one - though it does take some time because it does require a complete scrape of the IFSC site to try and get each climber's height."
   ]
  },
  {
   "cell_type": "code",
   "execution_count": 7,
   "id": "88d367f7-c7af-4d8f-b4cd-63566aaa0f19",
   "metadata": {
    "execution": {
     "iopub.execute_input": "2023-04-22T00:17:14.611716Z",
     "iopub.status.busy": "2023-04-22T00:17:14.611716Z",
     "iopub.status.idle": "2023-04-22T00:17:14.639557Z",
     "shell.execute_reply": "2023-04-22T00:17:14.639557Z",
     "shell.execute_reply.started": "2023-04-22T00:17:14.611716Z"
    },
    "tags": []
   },
   "outputs": [
    {
     "name": "stdout",
     "output_type": "stream",
     "text": [
      "Checking to see if boulder_stats_men.csv exists...\n",
      "File found! Loading boulder_stats_men.csv...\n",
      "Only 153 male climbers (13.32%) have their height listed!\n"
     ]
    },
    {
     "data": {
      "text/html": [
       "<div>\n",
       "<style scoped>\n",
       "    .dataframe tbody tr th:only-of-type {\n",
       "        vertical-align: middle;\n",
       "    }\n",
       "\n",
       "    .dataframe tbody tr th {\n",
       "        vertical-align: top;\n",
       "    }\n",
       "\n",
       "    .dataframe thead th {\n",
       "        text-align: right;\n",
       "    }\n",
       "</style>\n",
       "<table border=\"1\" class=\"dataframe\">\n",
       "  <thead>\n",
       "    <tr style=\"text-align: right;\">\n",
       "      <th></th>\n",
       "      <th>ID</th>\n",
       "      <th>Name</th>\n",
       "      <th>Country</th>\n",
       "      <th>Qualification</th>\n",
       "      <th>Semi-Final</th>\n",
       "      <th>Final</th>\n",
       "      <th>Q_Pct</th>\n",
       "      <th>S_Pct</th>\n",
       "      <th>F_Pct</th>\n",
       "      <th>Height</th>\n",
       "    </tr>\n",
       "  </thead>\n",
       "  <tbody>\n",
       "    <tr>\n",
       "      <th>0</th>\n",
       "      <td>1204</td>\n",
       "      <td>KILIAN FISCHHUBER</td>\n",
       "      <td>AUT</td>\n",
       "      <td>56</td>\n",
       "      <td>51</td>\n",
       "      <td>44</td>\n",
       "      <td>100.0</td>\n",
       "      <td>91.07</td>\n",
       "      <td>78.57</td>\n",
       "      <td>-</td>\n",
       "    </tr>\n",
       "    <tr>\n",
       "      <th>1</th>\n",
       "      <td>53</td>\n",
       "      <td>DMITRII SHARAFUTDINOV</td>\n",
       "      <td>RUS</td>\n",
       "      <td>65</td>\n",
       "      <td>53</td>\n",
       "      <td>40</td>\n",
       "      <td>100.0</td>\n",
       "      <td>81.54</td>\n",
       "      <td>61.54</td>\n",
       "      <td>-</td>\n",
       "    </tr>\n",
       "    <tr>\n",
       "      <th>2</th>\n",
       "      <td>60</td>\n",
       "      <td>RUSTAM GELMANOV</td>\n",
       "      <td>RUS</td>\n",
       "      <td>69</td>\n",
       "      <td>56</td>\n",
       "      <td>38</td>\n",
       "      <td>100.0</td>\n",
       "      <td>81.16</td>\n",
       "      <td>55.07</td>\n",
       "      <td>-</td>\n",
       "    </tr>\n",
       "    <tr>\n",
       "      <th>3</th>\n",
       "      <td>2272</td>\n",
       "      <td>KOKORO FUJII</td>\n",
       "      <td>JPN</td>\n",
       "      <td>54</td>\n",
       "      <td>48</td>\n",
       "      <td>27</td>\n",
       "      <td>100.0</td>\n",
       "      <td>88.89</td>\n",
       "      <td>50.00</td>\n",
       "      <td>176</td>\n",
       "    </tr>\n",
       "    <tr>\n",
       "      <th>4</th>\n",
       "      <td>79</td>\n",
       "      <td>ALEKSEY RUBTSOV</td>\n",
       "      <td>RUS</td>\n",
       "      <td>57</td>\n",
       "      <td>50</td>\n",
       "      <td>26</td>\n",
       "      <td>100.0</td>\n",
       "      <td>87.72</td>\n",
       "      <td>45.61</td>\n",
       "      <td>178</td>\n",
       "    </tr>\n",
       "    <tr>\n",
       "      <th>...</th>\n",
       "      <td>...</td>\n",
       "      <td>...</td>\n",
       "      <td>...</td>\n",
       "      <td>...</td>\n",
       "      <td>...</td>\n",
       "      <td>...</td>\n",
       "      <td>...</td>\n",
       "      <td>...</td>\n",
       "      <td>...</td>\n",
       "      <td>...</td>\n",
       "    </tr>\n",
       "    <tr>\n",
       "      <th>1297</th>\n",
       "      <td>6063</td>\n",
       "      <td>DAVID WETMORE</td>\n",
       "      <td>USA</td>\n",
       "      <td>2</td>\n",
       "      <td>0</td>\n",
       "      <td>0</td>\n",
       "      <td>100.0</td>\n",
       "      <td>0.00</td>\n",
       "      <td>0.00</td>\n",
       "      <td>-</td>\n",
       "    </tr>\n",
       "    <tr>\n",
       "      <th>1298</th>\n",
       "      <td>1736</td>\n",
       "      <td>AUSTIN GEIMAN</td>\n",
       "      <td>USA</td>\n",
       "      <td>15</td>\n",
       "      <td>1</td>\n",
       "      <td>0</td>\n",
       "      <td>100.0</td>\n",
       "      <td>6.67</td>\n",
       "      <td>0.00</td>\n",
       "      <td>-</td>\n",
       "    </tr>\n",
       "    <tr>\n",
       "      <th>1299</th>\n",
       "      <td>6081</td>\n",
       "      <td>WOLTER WESTDIJK</td>\n",
       "      <td>NED</td>\n",
       "      <td>1</td>\n",
       "      <td>0</td>\n",
       "      <td>0</td>\n",
       "      <td>100.0</td>\n",
       "      <td>0.00</td>\n",
       "      <td>0.00</td>\n",
       "      <td>-</td>\n",
       "    </tr>\n",
       "    <tr>\n",
       "      <th>1300</th>\n",
       "      <td>6080</td>\n",
       "      <td>MELLE VROOM</td>\n",
       "      <td>NED</td>\n",
       "      <td>1</td>\n",
       "      <td>0</td>\n",
       "      <td>0</td>\n",
       "      <td>100.0</td>\n",
       "      <td>0.00</td>\n",
       "      <td>0.00</td>\n",
       "      <td>-</td>\n",
       "    </tr>\n",
       "    <tr>\n",
       "      <th>1301</th>\n",
       "      <td>13553</td>\n",
       "      <td>MINSUNG HAN</td>\n",
       "      <td>KOR</td>\n",
       "      <td>1</td>\n",
       "      <td>0</td>\n",
       "      <td>0</td>\n",
       "      <td>100.0</td>\n",
       "      <td>0.00</td>\n",
       "      <td>0.00</td>\n",
       "      <td>-</td>\n",
       "    </tr>\n",
       "  </tbody>\n",
       "</table>\n",
       "<p>1302 rows × 10 columns</p>\n",
       "</div>"
      ],
      "text/plain": [
       "         ID                   Name Country  Qualification  Semi-Final  Final   \n",
       "0      1204      KILIAN FISCHHUBER     AUT             56          51     44  \\\n",
       "1        53  DMITRII SHARAFUTDINOV     RUS             65          53     40   \n",
       "2        60        RUSTAM GELMANOV     RUS             69          56     38   \n",
       "3      2272           KOKORO FUJII     JPN             54          48     27   \n",
       "4        79        ALEKSEY RUBTSOV     RUS             57          50     26   \n",
       "...     ...                    ...     ...            ...         ...    ...   \n",
       "1297   6063          DAVID WETMORE     USA              2           0      0   \n",
       "1298   1736          AUSTIN GEIMAN     USA             15           1      0   \n",
       "1299   6081        WOLTER WESTDIJK     NED              1           0      0   \n",
       "1300   6080            MELLE VROOM     NED              1           0      0   \n",
       "1301  13553            MINSUNG HAN     KOR              1           0      0   \n",
       "\n",
       "      Q_Pct  S_Pct  F_Pct Height  \n",
       "0     100.0  91.07  78.57      -  \n",
       "1     100.0  81.54  61.54      -  \n",
       "2     100.0  81.16  55.07      -  \n",
       "3     100.0  88.89  50.00    176  \n",
       "4     100.0  87.72  45.61    178  \n",
       "...     ...    ...    ...    ...  \n",
       "1297  100.0   0.00   0.00      -  \n",
       "1298  100.0   6.67   0.00      -  \n",
       "1299  100.0   0.00   0.00      -  \n",
       "1300  100.0   0.00   0.00      -  \n",
       "1301  100.0   0.00   0.00      -  \n",
       "\n",
       "[1302 rows x 10 columns]"
      ]
     },
     "execution_count": 7,
     "metadata": {},
     "output_type": "execute_result"
    }
   ],
   "source": [
    "def get_bouldering_stats(df, category='men'):\n",
    "    \"\"\"\n",
    "    Returns a dataframe showing the top 3 climbers (if applicable)\n",
    "    grouped by country.\n",
    "    \n",
    "    df: dataframe containing aggregated results for each unique climber\n",
    "    category: men's or women's category\n",
    "    \"\"\"\n",
    "    # Checks if we've already created this file\n",
    "    if category.lower() == 'men':\n",
    "        csv = 'boulder_stats_men.csv'\n",
    "    else:\n",
    "        csv = 'boulder_stats_women.csv'\n",
    "    \n",
    "    file = DATA_DIR + '\\\\' + csv\n",
    "    print(f'Checking to see if {csv} exists...')\n",
    "        \n",
    "    if os.path.exists(file):\n",
    "        print(f'File found! Loading {csv}...')\n",
    "        return pd.read_csv(file, index_col = 0)\n",
    "    \n",
    "    print('File does not exist - creating it now...')\n",
    "    \n",
    "    # Create a new dataframe with athlete's ID, name, and country\n",
    "    clean_df = df.drop_duplicates(subset=['Name', 'ID'])[['ID', 'Name', 'Country']]\n",
    "\n",
    "    # Counts number of appearances per round per climber\n",
    "    qual_all = df.groupby(['ID', 'Name'])['Qualification'].count()\n",
    "    semi_app = df.groupby(['ID', 'Name'])['Semi-Final'].count()\n",
    "    final_app = df.groupby(['ID', 'Name'])['Final'].count()\n",
    "\n",
    "    # Merges the above dataframes\n",
    "    rounds = pd.merge(pd.merge(qual_all, semi_app , left_on=['ID', 'Name'], right_index=True), final_app, left_on=['ID', 'Name'], right_index=True)\n",
    "    clean_df = pd.merge(clean_df, rounds, left_on=['ID', 'Name'], right_index=True)\n",
    "\n",
    "    # Calculates percentages of appearances in each round\n",
    "    clean_df['Q_Pct'] = round((clean_df['Qualification'] / clean_df['Qualification']) * 100, 2)\n",
    "    clean_df['S_Pct'] = round((clean_df['Semi-Final'] / clean_df['Qualification']) * 100, 2)\n",
    "    clean_df['F_Pct'] = round((clean_df['Final'] / clean_df['Qualification']) * 100, 2)\n",
    "    clean_df = clean_df.sort_values('Final', ascending=False).reset_index(drop=True)\n",
    "\n",
    "    # Convert 'ID' to string so we can scrape site for heights (~33 minutes)\n",
    "    print(f'Gathering {category}\\'s height - please be patient...')\n",
    "    clean_df['ID'] = clean_df['ID'].apply(str)\n",
    "    scraper = IFSCScraper()\n",
    "    clean_df['Height'] = clean_df['ID'].apply(lambda x: scraper.get_athlete_height(x))\n",
    "    scraper.end_session()\n",
    "\n",
    "    # Saves data so we don't have to scrape later    \n",
    "    clean_df.to_csv(file)\n",
    "    print('...Done!')\n",
    "    \n",
    "    return clean_df\n",
    "\n",
    "boulder_men_stats = get_bouldering_stats(boulder_men_all_results, 'men')\n",
    "\n",
    "# Number of climbers that have a height listed on the IFSC site\n",
    "have_height_men = (~boulder_men_stats['Height'].str.contains('-')).sum()\n",
    "no_height_men = (boulder_men_stats['Height'].str.contains('-')).sum()\n",
    "print(f'Only {have_height_men} male climbers ({(have_height_men/no_height_men)*100:.2f}%) have their height listed!')\n",
    "\n",
    "boulder_men_stats"
   ]
  },
  {
   "cell_type": "markdown",
   "id": "0befc066-189e-49b0-9c34-208ba46546e4",
   "metadata": {},
   "source": [
    "As you can see from the above, from our original ~7800 rows, we have condensed it down to 1302 unique male climbers. Along with their respective countries of origin, you can see the number of times each climber appeared in the qualification, semi-final, and final rounds. Additionally, you can see a percentage of times the climber reached that specific round. We're not done yet however, as there is still some important information we can figure out.\n",
    "\n",
    "## Podium Count\n",
    "How many times did each climber reach the podium? How many Bronze, Silver, or Gold medals did they get? Now that we have all of the data in a single dataframe, we can find out! To do this, we can use the [.groupby](https://pandas.pydata.org/docs/reference/api/pandas.DataFrame.groupby.html) method, as well as a clever use of the [.size](https://pandas.pydata.org/docs/reference/api/pandas.core.groupby.DataFrameGroupBy.size.html?highlight=size#pandas.core.groupby.DataFrameGroupBy.size) and [.unstack](https://pandas.pydata.org/docs/reference/api/pandas.DataFrame.unstack.html?highlight=unstack#pandas.DataFrame.unstack) methods."
   ]
  },
  {
   "cell_type": "code",
   "execution_count": 8,
   "id": "199a15a1-cb40-47ee-bcd5-271c2f04c5cc",
   "metadata": {
    "execution": {
     "iopub.execute_input": "2023-04-22T00:17:14.640562Z",
     "iopub.status.busy": "2023-04-22T00:17:14.639557Z",
     "iopub.status.idle": "2023-04-22T00:17:14.671473Z",
     "shell.execute_reply": "2023-04-22T00:17:14.671473Z",
     "shell.execute_reply.started": "2023-04-22T00:17:14.640562Z"
    },
    "tags": []
   },
   "outputs": [
    {
     "data": {
      "text/html": [
       "<div>\n",
       "<style scoped>\n",
       "    .dataframe tbody tr th:only-of-type {\n",
       "        vertical-align: middle;\n",
       "    }\n",
       "\n",
       "    .dataframe tbody tr th {\n",
       "        vertical-align: top;\n",
       "    }\n",
       "\n",
       "    .dataframe thead th {\n",
       "        text-align: right;\n",
       "    }\n",
       "</style>\n",
       "<table border=\"1\" class=\"dataframe\">\n",
       "  <thead>\n",
       "    <tr style=\"text-align: right;\">\n",
       "      <th></th>\n",
       "      <th>ID</th>\n",
       "      <th>Name</th>\n",
       "      <th>Country</th>\n",
       "      <th>Height</th>\n",
       "      <th>Qualification</th>\n",
       "      <th>Semi-Final</th>\n",
       "      <th>Final</th>\n",
       "      <th>Podium</th>\n",
       "      <th>Bronze</th>\n",
       "      <th>Silver</th>\n",
       "      <th>Gold</th>\n",
       "      <th>Q_Pct</th>\n",
       "      <th>S_Pct</th>\n",
       "      <th>F_Pct</th>\n",
       "      <th>P_Pct</th>\n",
       "      <th>Bronze_Pct</th>\n",
       "      <th>Silver_Pct</th>\n",
       "      <th>Gold_Pct</th>\n",
       "    </tr>\n",
       "  </thead>\n",
       "  <tbody>\n",
       "    <tr>\n",
       "      <th>0</th>\n",
       "      <td>1204</td>\n",
       "      <td>KILIAN FISCHHUBER</td>\n",
       "      <td>AUT</td>\n",
       "      <td>-</td>\n",
       "      <td>56</td>\n",
       "      <td>51</td>\n",
       "      <td>44</td>\n",
       "      <td>35</td>\n",
       "      <td>10</td>\n",
       "      <td>8</td>\n",
       "      <td>17</td>\n",
       "      <td>100.0</td>\n",
       "      <td>91.07</td>\n",
       "      <td>78.57</td>\n",
       "      <td>62.50</td>\n",
       "      <td>17.86</td>\n",
       "      <td>14.29</td>\n",
       "      <td>30.36</td>\n",
       "    </tr>\n",
       "    <tr>\n",
       "      <th>1</th>\n",
       "      <td>53</td>\n",
       "      <td>DMITRII SHARAFUTDINOV</td>\n",
       "      <td>RUS</td>\n",
       "      <td>-</td>\n",
       "      <td>65</td>\n",
       "      <td>53</td>\n",
       "      <td>40</td>\n",
       "      <td>26</td>\n",
       "      <td>3</td>\n",
       "      <td>9</td>\n",
       "      <td>14</td>\n",
       "      <td>100.0</td>\n",
       "      <td>81.54</td>\n",
       "      <td>61.54</td>\n",
       "      <td>40.00</td>\n",
       "      <td>4.62</td>\n",
       "      <td>13.85</td>\n",
       "      <td>21.54</td>\n",
       "    </tr>\n",
       "    <tr>\n",
       "      <th>2</th>\n",
       "      <td>60</td>\n",
       "      <td>RUSTAM GELMANOV</td>\n",
       "      <td>RUS</td>\n",
       "      <td>-</td>\n",
       "      <td>69</td>\n",
       "      <td>56</td>\n",
       "      <td>38</td>\n",
       "      <td>19</td>\n",
       "      <td>7</td>\n",
       "      <td>6</td>\n",
       "      <td>6</td>\n",
       "      <td>100.0</td>\n",
       "      <td>81.16</td>\n",
       "      <td>55.07</td>\n",
       "      <td>27.54</td>\n",
       "      <td>10.14</td>\n",
       "      <td>8.70</td>\n",
       "      <td>8.70</td>\n",
       "    </tr>\n",
       "    <tr>\n",
       "      <th>3</th>\n",
       "      <td>2272</td>\n",
       "      <td>KOKORO FUJII</td>\n",
       "      <td>JPN</td>\n",
       "      <td>176</td>\n",
       "      <td>54</td>\n",
       "      <td>48</td>\n",
       "      <td>27</td>\n",
       "      <td>0</td>\n",
       "      <td>3</td>\n",
       "      <td>0</td>\n",
       "      <td>6</td>\n",
       "      <td>100.0</td>\n",
       "      <td>88.89</td>\n",
       "      <td>50.00</td>\n",
       "      <td>0.00</td>\n",
       "      <td>5.56</td>\n",
       "      <td>0.00</td>\n",
       "      <td>11.11</td>\n",
       "    </tr>\n",
       "    <tr>\n",
       "      <th>4</th>\n",
       "      <td>79</td>\n",
       "      <td>ALEKSEY RUBTSOV</td>\n",
       "      <td>RUS</td>\n",
       "      <td>178</td>\n",
       "      <td>57</td>\n",
       "      <td>50</td>\n",
       "      <td>26</td>\n",
       "      <td>14</td>\n",
       "      <td>10</td>\n",
       "      <td>1</td>\n",
       "      <td>3</td>\n",
       "      <td>100.0</td>\n",
       "      <td>87.72</td>\n",
       "      <td>45.61</td>\n",
       "      <td>24.56</td>\n",
       "      <td>17.54</td>\n",
       "      <td>1.75</td>\n",
       "      <td>5.26</td>\n",
       "    </tr>\n",
       "    <tr>\n",
       "      <th>...</th>\n",
       "      <td>...</td>\n",
       "      <td>...</td>\n",
       "      <td>...</td>\n",
       "      <td>...</td>\n",
       "      <td>...</td>\n",
       "      <td>...</td>\n",
       "      <td>...</td>\n",
       "      <td>...</td>\n",
       "      <td>...</td>\n",
       "      <td>...</td>\n",
       "      <td>...</td>\n",
       "      <td>...</td>\n",
       "      <td>...</td>\n",
       "      <td>...</td>\n",
       "      <td>...</td>\n",
       "      <td>...</td>\n",
       "      <td>...</td>\n",
       "      <td>...</td>\n",
       "    </tr>\n",
       "    <tr>\n",
       "      <th>1297</th>\n",
       "      <td>6063</td>\n",
       "      <td>DAVID WETMORE</td>\n",
       "      <td>USA</td>\n",
       "      <td>-</td>\n",
       "      <td>2</td>\n",
       "      <td>0</td>\n",
       "      <td>0</td>\n",
       "      <td>0</td>\n",
       "      <td>0</td>\n",
       "      <td>0</td>\n",
       "      <td>0</td>\n",
       "      <td>100.0</td>\n",
       "      <td>0.00</td>\n",
       "      <td>0.00</td>\n",
       "      <td>0.00</td>\n",
       "      <td>0.00</td>\n",
       "      <td>0.00</td>\n",
       "      <td>0.00</td>\n",
       "    </tr>\n",
       "    <tr>\n",
       "      <th>1298</th>\n",
       "      <td>1736</td>\n",
       "      <td>AUSTIN GEIMAN</td>\n",
       "      <td>USA</td>\n",
       "      <td>-</td>\n",
       "      <td>15</td>\n",
       "      <td>1</td>\n",
       "      <td>0</td>\n",
       "      <td>0</td>\n",
       "      <td>0</td>\n",
       "      <td>0</td>\n",
       "      <td>0</td>\n",
       "      <td>100.0</td>\n",
       "      <td>6.67</td>\n",
       "      <td>0.00</td>\n",
       "      <td>0.00</td>\n",
       "      <td>0.00</td>\n",
       "      <td>0.00</td>\n",
       "      <td>0.00</td>\n",
       "    </tr>\n",
       "    <tr>\n",
       "      <th>1299</th>\n",
       "      <td>6081</td>\n",
       "      <td>WOLTER WESTDIJK</td>\n",
       "      <td>NED</td>\n",
       "      <td>-</td>\n",
       "      <td>1</td>\n",
       "      <td>0</td>\n",
       "      <td>0</td>\n",
       "      <td>0</td>\n",
       "      <td>0</td>\n",
       "      <td>0</td>\n",
       "      <td>0</td>\n",
       "      <td>100.0</td>\n",
       "      <td>0.00</td>\n",
       "      <td>0.00</td>\n",
       "      <td>0.00</td>\n",
       "      <td>0.00</td>\n",
       "      <td>0.00</td>\n",
       "      <td>0.00</td>\n",
       "    </tr>\n",
       "    <tr>\n",
       "      <th>1300</th>\n",
       "      <td>6080</td>\n",
       "      <td>MELLE VROOM</td>\n",
       "      <td>NED</td>\n",
       "      <td>-</td>\n",
       "      <td>1</td>\n",
       "      <td>0</td>\n",
       "      <td>0</td>\n",
       "      <td>0</td>\n",
       "      <td>0</td>\n",
       "      <td>0</td>\n",
       "      <td>0</td>\n",
       "      <td>100.0</td>\n",
       "      <td>0.00</td>\n",
       "      <td>0.00</td>\n",
       "      <td>0.00</td>\n",
       "      <td>0.00</td>\n",
       "      <td>0.00</td>\n",
       "      <td>0.00</td>\n",
       "    </tr>\n",
       "    <tr>\n",
       "      <th>1301</th>\n",
       "      <td>13553</td>\n",
       "      <td>MINSUNG HAN</td>\n",
       "      <td>KOR</td>\n",
       "      <td>-</td>\n",
       "      <td>1</td>\n",
       "      <td>0</td>\n",
       "      <td>0</td>\n",
       "      <td>0</td>\n",
       "      <td>0</td>\n",
       "      <td>0</td>\n",
       "      <td>0</td>\n",
       "      <td>100.0</td>\n",
       "      <td>0.00</td>\n",
       "      <td>0.00</td>\n",
       "      <td>0.00</td>\n",
       "      <td>0.00</td>\n",
       "      <td>0.00</td>\n",
       "      <td>0.00</td>\n",
       "    </tr>\n",
       "  </tbody>\n",
       "</table>\n",
       "<p>1302 rows × 18 columns</p>\n",
       "</div>"
      ],
      "text/plain": [
       "         ID                   Name Country Height  Qualification  Semi-Final   \n",
       "0      1204      KILIAN FISCHHUBER     AUT      -             56          51  \\\n",
       "1        53  DMITRII SHARAFUTDINOV     RUS      -             65          53   \n",
       "2        60        RUSTAM GELMANOV     RUS      -             69          56   \n",
       "3      2272           KOKORO FUJII     JPN    176             54          48   \n",
       "4        79        ALEKSEY RUBTSOV     RUS    178             57          50   \n",
       "...     ...                    ...     ...    ...            ...         ...   \n",
       "1297   6063          DAVID WETMORE     USA      -              2           0   \n",
       "1298   1736          AUSTIN GEIMAN     USA      -             15           1   \n",
       "1299   6081        WOLTER WESTDIJK     NED      -              1           0   \n",
       "1300   6080            MELLE VROOM     NED      -              1           0   \n",
       "1301  13553            MINSUNG HAN     KOR      -              1           0   \n",
       "\n",
       "      Final  Podium  Bronze  Silver  Gold  Q_Pct  S_Pct  F_Pct  P_Pct   \n",
       "0        44      35      10       8    17  100.0  91.07  78.57  62.50  \\\n",
       "1        40      26       3       9    14  100.0  81.54  61.54  40.00   \n",
       "2        38      19       7       6     6  100.0  81.16  55.07  27.54   \n",
       "3        27       0       3       0     6  100.0  88.89  50.00   0.00   \n",
       "4        26      14      10       1     3  100.0  87.72  45.61  24.56   \n",
       "...     ...     ...     ...     ...   ...    ...    ...    ...    ...   \n",
       "1297      0       0       0       0     0  100.0   0.00   0.00   0.00   \n",
       "1298      0       0       0       0     0  100.0   6.67   0.00   0.00   \n",
       "1299      0       0       0       0     0  100.0   0.00   0.00   0.00   \n",
       "1300      0       0       0       0     0  100.0   0.00   0.00   0.00   \n",
       "1301      0       0       0       0     0  100.0   0.00   0.00   0.00   \n",
       "\n",
       "      Bronze_Pct  Silver_Pct  Gold_Pct  \n",
       "0          17.86       14.29     30.36  \n",
       "1           4.62       13.85     21.54  \n",
       "2          10.14        8.70      8.70  \n",
       "3           5.56        0.00     11.11  \n",
       "4          17.54        1.75      5.26  \n",
       "...          ...         ...       ...  \n",
       "1297        0.00        0.00      0.00  \n",
       "1298        0.00        0.00      0.00  \n",
       "1299        0.00        0.00      0.00  \n",
       "1300        0.00        0.00      0.00  \n",
       "1301        0.00        0.00      0.00  \n",
       "\n",
       "[1302 rows x 18 columns]"
      ]
     },
     "execution_count": 8,
     "metadata": {},
     "output_type": "execute_result"
    }
   ],
   "source": [
    "def calculate_podiums(all_df, stats_df, country = False):\n",
    "    \"\"\"\n",
    "    Returns a dataframe showing each unique climber's aggregated\n",
    "    results across all scraped events, including # of times they\n",
    "    earned a podium position.\n",
    "    \n",
    "    all_df: dataframe containing all non-aggregated results\n",
    "    stats_df: dataframe containing aggregated results for all unique climbers\n",
    "    \"\"\"\n",
    "    # Get a dataframe of all climbers who had a rank of 1, 2, or 3 in any event\n",
    "    podiums = all_df[(all_df['Rank'] <= 3) & (all_df['Rank'] > 0)]\n",
    "\n",
    "    # Get another new dataframe with the count of occurences each climber got each rank\n",
    "    if country:\n",
    "        medals = podiums.groupby(['Rank', 'Country']).size().unstack(0)\n",
    "    else:\n",
    "        medals = podiums.groupby(['ID', 'Name', 'Rank']).size().unstack()\n",
    "    medals = medals.rename(columns={-1: 'Podium', 1: 'Gold', 2: 'Silver', 3: 'Bronze'})\n",
    "    medals['Podium'] = medals['Gold'] + medals['Silver'] + medals['Bronze']\n",
    "\n",
    "    # Merge with our stats dataframe and add new % columns\n",
    "    if country:\n",
    "        stats_df           = stats_df.merge(medals, how='left', left_on=['Country'], right_on=['Country']).fillna(0)\n",
    "    else:\n",
    "        stats_df           = stats_df.merge(medals, how='left', left_on=['ID', 'Name'], right_on=['ID', 'Name']).fillna(0)\n",
    "    stats_df['P_Pct']      = round((stats_df['Podium'] / stats_df['Qualification']) * 100, 2)\n",
    "    stats_df['Gold_Pct']   = round((stats_df['Gold'] / stats_df['Qualification']) * 100, 2)\n",
    "    stats_df['Silver_Pct'] = round((stats_df['Silver'] / stats_df['Qualification']) * 100, 2)\n",
    "    stats_df['Bronze_Pct'] = round((stats_df['Bronze'] / stats_df['Qualification']) * 100, 2)\n",
    "    \n",
    "    # Convert these columns to 'int'\n",
    "    int_col = ['Podium', 'Bronze', 'Silver', 'Gold']\n",
    "    stats_df[int_col] = stats_df[int_col].astype(int)\n",
    "\n",
    "    # Reordering the columns into a more logical format\n",
    "    if country:\n",
    "        cols = ['Country', 'Qualification', 'Semi-Final', 'Final', 'Podium',\n",
    "                'Bronze', 'Silver', 'Gold', 'Q_Pct', 'S_Pct', 'F_Pct', 'P_Pct',\n",
    "                'Bronze_Pct', 'Silver_Pct', 'Gold_Pct']\n",
    "    else:\n",
    "        cols = ['ID', 'Name', 'Country', 'Height', 'Qualification', 'Semi-Final',\n",
    "                'Final', 'Podium', 'Bronze', 'Silver', 'Gold', 'Q_Pct', 'S_Pct',\n",
    "                'F_Pct', 'P_Pct', 'Bronze_Pct', 'Silver_Pct', 'Gold_Pct']\n",
    "\n",
    "    stats_df = stats_df[cols]\n",
    "    return stats_df\n",
    "\n",
    "boulder_men_stats = calculate_podiums(boulder_men_all_results, boulder_men_stats)\n",
    "boulder_men_stats"
   ]
  },
  {
   "cell_type": "code",
   "execution_count": 9,
   "id": "57fb5aa1-f816-4bde-bb02-28bdcb4789a0",
   "metadata": {
    "execution": {
     "iopub.execute_input": "2023-04-22T00:17:14.672449Z",
     "iopub.status.busy": "2023-04-22T00:17:14.672449Z",
     "iopub.status.idle": "2023-04-22T00:17:14.893263Z",
     "shell.execute_reply": "2023-04-22T00:17:14.893263Z",
     "shell.execute_reply.started": "2023-04-22T00:17:14.672449Z"
    },
    "tags": []
   },
   "outputs": [
    {
     "data": {
      "image/png": "[encoded data removed]",
      "text/plain": [
       "<Figure size 720x576 with 1 Axes>"
      ]
     },
     "metadata": {},
     "output_type": "display_data"
    }
   ],
   "source": [
    "def plot_bar(df, col, col2, title, sub, xoffset, yoffset, sig):\n",
    "    #figure details\n",
    "    fig = plt.figure(figsize=(10,8), facecolor='#f0f0f0')\n",
    "            \n",
    "    #plot\n",
    "    ax = sns.barplot(data=df, x=col, y=col2, color='#10baee')\n",
    "    # for i in ax.containers:\n",
    "    #     ax.bar_label(i,)\n",
    "    \n",
    "    #styling\n",
    "    #blue = #10baee\n",
    "    #pink = #ff007e\n",
    "    \n",
    "    # ax.axhline(y = 0, color = \"black\", linewidth = 2, alpha = .7)\n",
    "    ax.axvline(x = 0.2, color = \"black\", linewidth = 2, alpha = .7)\n",
    "    ax.set_xlabel('Total Podium Placements', fontsize=18)\n",
    "    ax.yaxis.label.set_visible(False)\n",
    "    ax.tick_params(axis='x', labelsize=12)\n",
    "    ax.tick_params(axis='y', labelsize=12)\n",
    "    \n",
    "    #title & subtitle\n",
    "    ax.text(xoffset,0.94, s=title, fontsize=28, weight=\"bold\", alpha=.75, transform=fig.transFigure)\n",
    "    ax.text(xoffset,0.9, s=sub, fontsize=21, alpha=.85, transform=fig.transFigure)\n",
    "    \n",
    "    #signature bar\n",
    "    ax.text(x=xoffset, y=yoffset,\n",
    "            s=\" ©NoahGampe\" + ' '*sig + \"Source: IFSC \",\n",
    "            fontsize=14, color=\"#f0f0f0\", backgroundcolor=\"grey\", transform=fig.transFigure)\n",
    "    \n",
    "    plt.show()\n",
    "    \n",
    "title = \"Podium Counts of Most Dominant Climbers\"\n",
    "sub = \"Total number of times a climber reached the podium between 2007-2022\"\n",
    "plot_bar(boulder_men_stats[boulder_men_stats['Podium'] > 0].sort_values('Podium',ascending=False), 'Podium', 'Name', title, sub, -0.2, 0.025, 140)"
   ]
  },
  {
   "cell_type": "markdown",
   "id": "8db9408d-486e-42a0-aa3e-5935b39d999f",
   "metadata": {},
   "source": [
    "Now we have a more robust dataframe with more relevant information. Additionally, we can use this dataframe with our previous function to check out a single climber and see all their stats. A reminder that these stats only represent the IFSC World Cup events."
   ]
  },
  {
   "cell_type": "code",
   "execution_count": 10,
   "id": "29d76f63-4696-4939-9631-63c4dcb2b3b5",
   "metadata": {
    "execution": {
     "iopub.execute_input": "2023-04-22T00:17:14.894239Z",
     "iopub.status.busy": "2023-04-22T00:17:14.894239Z",
     "iopub.status.idle": "2023-04-22T00:17:14.906458Z",
     "shell.execute_reply": "2023-04-22T00:17:14.906458Z",
     "shell.execute_reply.started": "2023-04-22T00:17:14.894239Z"
    },
    "tags": []
   },
   "outputs": [
    {
     "data": {
      "text/html": [
       "<div>\n",
       "<style scoped>\n",
       "    .dataframe tbody tr th:only-of-type {\n",
       "        vertical-align: middle;\n",
       "    }\n",
       "\n",
       "    .dataframe tbody tr th {\n",
       "        vertical-align: top;\n",
       "    }\n",
       "\n",
       "    .dataframe thead th {\n",
       "        text-align: right;\n",
       "    }\n",
       "</style>\n",
       "<table border=\"1\" class=\"dataframe\">\n",
       "  <thead>\n",
       "    <tr style=\"text-align: right;\">\n",
       "      <th></th>\n",
       "      <th>ID</th>\n",
       "      <th>Name</th>\n",
       "      <th>Country</th>\n",
       "      <th>Height</th>\n",
       "      <th>Qualification</th>\n",
       "      <th>Semi-Final</th>\n",
       "      <th>Final</th>\n",
       "      <th>Podium</th>\n",
       "      <th>Bronze</th>\n",
       "      <th>Silver</th>\n",
       "      <th>Gold</th>\n",
       "      <th>Q_Pct</th>\n",
       "      <th>S_Pct</th>\n",
       "      <th>F_Pct</th>\n",
       "      <th>P_Pct</th>\n",
       "      <th>Bronze_Pct</th>\n",
       "      <th>Silver_Pct</th>\n",
       "      <th>Gold_Pct</th>\n",
       "    </tr>\n",
       "  </thead>\n",
       "  <tbody>\n",
       "    <tr>\n",
       "      <th>6</th>\n",
       "      <td>2052</td>\n",
       "      <td>JONGWON CHON</td>\n",
       "      <td>KOR</td>\n",
       "      <td>177</td>\n",
       "      <td>46</td>\n",
       "      <td>41</td>\n",
       "      <td>25</td>\n",
       "      <td>11</td>\n",
       "      <td>3</td>\n",
       "      <td>3</td>\n",
       "      <td>5</td>\n",
       "      <td>100.0</td>\n",
       "      <td>89.13</td>\n",
       "      <td>54.35</td>\n",
       "      <td>23.91</td>\n",
       "      <td>6.52</td>\n",
       "      <td>6.52</td>\n",
       "      <td>10.87</td>\n",
       "    </tr>\n",
       "  </tbody>\n",
       "</table>\n",
       "</div>"
      ],
      "text/plain": [
       "     ID          Name Country Height  Qualification  Semi-Final  Final   \n",
       "6  2052  JONGWON CHON     KOR    177             46          41     25  \\\n",
       "\n",
       "   Podium  Bronze  Silver  Gold  Q_Pct  S_Pct  F_Pct  P_Pct  Bronze_Pct   \n",
       "6      11       3       3     5  100.0  89.13  54.35  23.91        6.52  \\\n",
       "\n",
       "   Silver_Pct  Gold_Pct  \n",
       "6        6.52     10.87  "
      ]
     },
     "execution_count": 10,
     "metadata": {},
     "output_type": "execute_result"
    }
   ],
   "source": [
    "individual2 = check_climber(boulder_men_stats, 'jongwon chon')\n",
    "individual2"
   ]
  },
  {
   "cell_type": "markdown",
   "id": "5a898e94-5138-4005-aa6e-232be51188da",
   "metadata": {},
   "source": [
    "## Country Statistics"
   ]
  },
  {
   "cell_type": "code",
   "execution_count": 11,
   "id": "8a822a14-9fff-47bf-b833-883e233df621",
   "metadata": {
    "execution": {
     "iopub.execute_input": "2023-04-22T00:17:14.907435Z",
     "iopub.status.busy": "2023-04-22T00:17:14.907435Z",
     "iopub.status.idle": "2023-04-22T00:17:14.927544Z",
     "shell.execute_reply": "2023-04-22T00:17:14.927544Z",
     "shell.execute_reply.started": "2023-04-22T00:17:14.907435Z"
    },
    "tags": []
   },
   "outputs": [
    {
     "data": {
      "text/html": [
       "<div>\n",
       "<style scoped>\n",
       "    .dataframe tbody tr th:only-of-type {\n",
       "        vertical-align: middle;\n",
       "    }\n",
       "\n",
       "    .dataframe tbody tr th {\n",
       "        vertical-align: top;\n",
       "    }\n",
       "\n",
       "    .dataframe thead th {\n",
       "        text-align: right;\n",
       "    }\n",
       "</style>\n",
       "<table border=\"1\" class=\"dataframe\">\n",
       "  <thead>\n",
       "    <tr style=\"text-align: right;\">\n",
       "      <th></th>\n",
       "      <th>Country</th>\n",
       "      <th>Qualification</th>\n",
       "      <th>Semi-Final</th>\n",
       "      <th>Final</th>\n",
       "      <th>Q_Pct</th>\n",
       "      <th>S_Pct</th>\n",
       "      <th>F_Pct</th>\n",
       "    </tr>\n",
       "  </thead>\n",
       "  <tbody>\n",
       "    <tr>\n",
       "      <th>0</th>\n",
       "      <td>JPN</td>\n",
       "      <td>651</td>\n",
       "      <td>386</td>\n",
       "      <td>134</td>\n",
       "      <td>8.36</td>\n",
       "      <td>18.15</td>\n",
       "      <td>20.43</td>\n",
       "    </tr>\n",
       "    <tr>\n",
       "      <th>1</th>\n",
       "      <td>RUS</td>\n",
       "      <td>425</td>\n",
       "      <td>197</td>\n",
       "      <td>109</td>\n",
       "      <td>5.46</td>\n",
       "      <td>9.26</td>\n",
       "      <td>16.62</td>\n",
       "    </tr>\n",
       "    <tr>\n",
       "      <th>2</th>\n",
       "      <td>FRA</td>\n",
       "      <td>628</td>\n",
       "      <td>299</td>\n",
       "      <td>81</td>\n",
       "      <td>8.06</td>\n",
       "      <td>14.06</td>\n",
       "      <td>12.35</td>\n",
       "    </tr>\n",
       "    <tr>\n",
       "      <th>3</th>\n",
       "      <td>AUT</td>\n",
       "      <td>390</td>\n",
       "      <td>142</td>\n",
       "      <td>75</td>\n",
       "      <td>5.01</td>\n",
       "      <td>6.68</td>\n",
       "      <td>11.43</td>\n",
       "    </tr>\n",
       "    <tr>\n",
       "      <th>4</th>\n",
       "      <td>GER</td>\n",
       "      <td>495</td>\n",
       "      <td>180</td>\n",
       "      <td>38</td>\n",
       "      <td>6.35</td>\n",
       "      <td>8.46</td>\n",
       "      <td>5.79</td>\n",
       "    </tr>\n",
       "    <tr>\n",
       "      <th>...</th>\n",
       "      <td>...</td>\n",
       "      <td>...</td>\n",
       "      <td>...</td>\n",
       "      <td>...</td>\n",
       "      <td>...</td>\n",
       "      <td>...</td>\n",
       "      <td>...</td>\n",
       "    </tr>\n",
       "    <tr>\n",
       "      <th>75</th>\n",
       "      <td>IRL</td>\n",
       "      <td>33</td>\n",
       "      <td>1</td>\n",
       "      <td>0</td>\n",
       "      <td>0.42</td>\n",
       "      <td>0.05</td>\n",
       "      <td>0.00</td>\n",
       "    </tr>\n",
       "    <tr>\n",
       "      <th>76</th>\n",
       "      <td>ARG</td>\n",
       "      <td>33</td>\n",
       "      <td>0</td>\n",
       "      <td>0</td>\n",
       "      <td>0.42</td>\n",
       "      <td>0.00</td>\n",
       "      <td>0.00</td>\n",
       "    </tr>\n",
       "    <tr>\n",
       "      <th>77</th>\n",
       "      <td>KAZ</td>\n",
       "      <td>32</td>\n",
       "      <td>0</td>\n",
       "      <td>0</td>\n",
       "      <td>0.41</td>\n",
       "      <td>0.00</td>\n",
       "      <td>0.00</td>\n",
       "    </tr>\n",
       "    <tr>\n",
       "      <th>78</th>\n",
       "      <td>KGZ</td>\n",
       "      <td>1</td>\n",
       "      <td>0</td>\n",
       "      <td>0</td>\n",
       "      <td>0.01</td>\n",
       "      <td>0.00</td>\n",
       "      <td>0.00</td>\n",
       "    </tr>\n",
       "    <tr>\n",
       "      <th>79</th>\n",
       "      <td>VEN</td>\n",
       "      <td>8</td>\n",
       "      <td>2</td>\n",
       "      <td>0</td>\n",
       "      <td>0.10</td>\n",
       "      <td>0.09</td>\n",
       "      <td>0.00</td>\n",
       "    </tr>\n",
       "  </tbody>\n",
       "</table>\n",
       "<p>80 rows × 7 columns</p>\n",
       "</div>"
      ],
      "text/plain": [
       "   Country  Qualification  Semi-Final  Final  Q_Pct  S_Pct  F_Pct\n",
       "0      JPN            651         386    134   8.36  18.15  20.43\n",
       "1      RUS            425         197    109   5.46   9.26  16.62\n",
       "2      FRA            628         299     81   8.06  14.06  12.35\n",
       "3      AUT            390         142     75   5.01   6.68  11.43\n",
       "4      GER            495         180     38   6.35   8.46   5.79\n",
       "..     ...            ...         ...    ...    ...    ...    ...\n",
       "75     IRL             33           1      0   0.42   0.05   0.00\n",
       "76     ARG             33           0      0   0.42   0.00   0.00\n",
       "77     KAZ             32           0      0   0.41   0.00   0.00\n",
       "78     KGZ              1           0      0   0.01   0.00   0.00\n",
       "79     VEN              8           2      0   0.10   0.09   0.00\n",
       "\n",
       "[80 rows x 7 columns]"
      ]
     },
     "execution_count": 11,
     "metadata": {},
     "output_type": "execute_result"
    }
   ],
   "source": [
    "def get_bouldering_country_stats(df):\n",
    "    \"\"\"\n",
    "    Returns a dataframe showing results of all scraped IFSC events\n",
    "    grouped by country.\n",
    "    \n",
    "    df: dataframe containing results for all bouldering events\n",
    "    \"\"\"\n",
    "    clean_df = pd.DataFrame()\n",
    "    clean_df['Country'] = df['Country'].unique()\n",
    "\n",
    "    # Counts number of appearances per round per country\n",
    "    qual_all = df.groupby(['Country'])['Qualification'].count()\n",
    "    semi_app = df.groupby(['Country'])['Semi-Final'].count()\n",
    "    final_app = df.groupby(['Country'])['Final'].count()\n",
    "\n",
    "    # Merges the above with our previous dataframe\n",
    "    clean_df = pd.merge(pd.merge(qual_all, semi_app , left_on='Country', right_index=True),\n",
    "                  final_app, left_on='Country', right_index=True)\n",
    "\n",
    "    # Calculates percentages of appearances vs total events\n",
    "    clean_df = clean_df.sort_values('Final', ascending=False).reset_index()\n",
    "    clean_df['Q_Pct'] = round((clean_df['Qualification'] / clean_df['Qualification'].sum()) * 100, 2)\n",
    "    clean_df['S_Pct'] = round((clean_df['Semi-Final'] / clean_df['Semi-Final'].sum()) * 100, 2)\n",
    "    clean_df['F_Pct'] = round((clean_df['Final'] / clean_df['Final'].sum()) * 100, 2)\n",
    "    return clean_df\n",
    "\n",
    "boulder_men_country_stats = get_bouldering_country_stats(boulder_men_all_results)\n",
    "boulder_men_country_stats"
   ]
  },
  {
   "cell_type": "markdown",
   "id": "acf79f88-3915-431f-85d6-ad8a138f248a",
   "metadata": {},
   "source": [
    "We can then re-configure our previous function that calculated podium results for individual climbers for countries."
   ]
  },
  {
   "cell_type": "code",
   "execution_count": 12,
   "id": "e6ec3d15-f379-4241-84a6-0ce2ecb38ff9",
   "metadata": {
    "execution": {
     "iopub.execute_input": "2023-04-22T00:17:14.928512Z",
     "iopub.status.busy": "2023-04-22T00:17:14.927544Z",
     "iopub.status.idle": "2023-04-22T00:17:14.950493Z",
     "shell.execute_reply": "2023-04-22T00:17:14.950493Z",
     "shell.execute_reply.started": "2023-04-22T00:17:14.928512Z"
    },
    "tags": []
   },
   "outputs": [
    {
     "data": {
      "text/html": [
       "<div>\n",
       "<style scoped>\n",
       "    .dataframe tbody tr th:only-of-type {\n",
       "        vertical-align: middle;\n",
       "    }\n",
       "\n",
       "    .dataframe tbody tr th {\n",
       "        vertical-align: top;\n",
       "    }\n",
       "\n",
       "    .dataframe thead th {\n",
       "        text-align: right;\n",
       "    }\n",
       "</style>\n",
       "<table border=\"1\" class=\"dataframe\">\n",
       "  <thead>\n",
       "    <tr style=\"text-align: right;\">\n",
       "      <th></th>\n",
       "      <th>Country</th>\n",
       "      <th>Qualification</th>\n",
       "      <th>Semi-Final</th>\n",
       "      <th>Final</th>\n",
       "      <th>Podium</th>\n",
       "      <th>Bronze</th>\n",
       "      <th>Silver</th>\n",
       "      <th>Gold</th>\n",
       "      <th>Q_Pct</th>\n",
       "      <th>S_Pct</th>\n",
       "      <th>F_Pct</th>\n",
       "      <th>P_Pct</th>\n",
       "      <th>Bronze_Pct</th>\n",
       "      <th>Silver_Pct</th>\n",
       "      <th>Gold_Pct</th>\n",
       "    </tr>\n",
       "  </thead>\n",
       "  <tbody>\n",
       "    <tr>\n",
       "      <th>0</th>\n",
       "      <td>JPN</td>\n",
       "      <td>651</td>\n",
       "      <td>386</td>\n",
       "      <td>134</td>\n",
       "      <td>66</td>\n",
       "      <td>20</td>\n",
       "      <td>25</td>\n",
       "      <td>21</td>\n",
       "      <td>8.36</td>\n",
       "      <td>18.15</td>\n",
       "      <td>20.43</td>\n",
       "      <td>10.14</td>\n",
       "      <td>3.07</td>\n",
       "      <td>3.84</td>\n",
       "      <td>3.23</td>\n",
       "    </tr>\n",
       "    <tr>\n",
       "      <th>1</th>\n",
       "      <td>RUS</td>\n",
       "      <td>425</td>\n",
       "      <td>197</td>\n",
       "      <td>109</td>\n",
       "      <td>62</td>\n",
       "      <td>22</td>\n",
       "      <td>17</td>\n",
       "      <td>23</td>\n",
       "      <td>5.46</td>\n",
       "      <td>9.26</td>\n",
       "      <td>16.62</td>\n",
       "      <td>14.59</td>\n",
       "      <td>5.18</td>\n",
       "      <td>4.00</td>\n",
       "      <td>5.41</td>\n",
       "    </tr>\n",
       "    <tr>\n",
       "      <th>2</th>\n",
       "      <td>FRA</td>\n",
       "      <td>628</td>\n",
       "      <td>299</td>\n",
       "      <td>81</td>\n",
       "      <td>24</td>\n",
       "      <td>10</td>\n",
       "      <td>7</td>\n",
       "      <td>7</td>\n",
       "      <td>8.06</td>\n",
       "      <td>14.06</td>\n",
       "      <td>12.35</td>\n",
       "      <td>3.82</td>\n",
       "      <td>1.59</td>\n",
       "      <td>1.11</td>\n",
       "      <td>1.11</td>\n",
       "    </tr>\n",
       "    <tr>\n",
       "      <th>3</th>\n",
       "      <td>AUT</td>\n",
       "      <td>390</td>\n",
       "      <td>142</td>\n",
       "      <td>75</td>\n",
       "      <td>51</td>\n",
       "      <td>18</td>\n",
       "      <td>11</td>\n",
       "      <td>22</td>\n",
       "      <td>5.01</td>\n",
       "      <td>6.68</td>\n",
       "      <td>11.43</td>\n",
       "      <td>13.08</td>\n",
       "      <td>4.62</td>\n",
       "      <td>2.82</td>\n",
       "      <td>5.64</td>\n",
       "    </tr>\n",
       "    <tr>\n",
       "      <th>4</th>\n",
       "      <td>GER</td>\n",
       "      <td>495</td>\n",
       "      <td>180</td>\n",
       "      <td>38</td>\n",
       "      <td>20</td>\n",
       "      <td>7</td>\n",
       "      <td>5</td>\n",
       "      <td>8</td>\n",
       "      <td>6.35</td>\n",
       "      <td>8.46</td>\n",
       "      <td>5.79</td>\n",
       "      <td>4.04</td>\n",
       "      <td>1.41</td>\n",
       "      <td>1.01</td>\n",
       "      <td>1.62</td>\n",
       "    </tr>\n",
       "    <tr>\n",
       "      <th>...</th>\n",
       "      <td>...</td>\n",
       "      <td>...</td>\n",
       "      <td>...</td>\n",
       "      <td>...</td>\n",
       "      <td>...</td>\n",
       "      <td>...</td>\n",
       "      <td>...</td>\n",
       "      <td>...</td>\n",
       "      <td>...</td>\n",
       "      <td>...</td>\n",
       "      <td>...</td>\n",
       "      <td>...</td>\n",
       "      <td>...</td>\n",
       "      <td>...</td>\n",
       "      <td>...</td>\n",
       "    </tr>\n",
       "    <tr>\n",
       "      <th>75</th>\n",
       "      <td>IRL</td>\n",
       "      <td>33</td>\n",
       "      <td>1</td>\n",
       "      <td>0</td>\n",
       "      <td>0</td>\n",
       "      <td>0</td>\n",
       "      <td>0</td>\n",
       "      <td>0</td>\n",
       "      <td>0.42</td>\n",
       "      <td>0.05</td>\n",
       "      <td>0.00</td>\n",
       "      <td>0.00</td>\n",
       "      <td>0.00</td>\n",
       "      <td>0.00</td>\n",
       "      <td>0.00</td>\n",
       "    </tr>\n",
       "    <tr>\n",
       "      <th>76</th>\n",
       "      <td>ARG</td>\n",
       "      <td>33</td>\n",
       "      <td>0</td>\n",
       "      <td>0</td>\n",
       "      <td>0</td>\n",
       "      <td>0</td>\n",
       "      <td>0</td>\n",
       "      <td>0</td>\n",
       "      <td>0.42</td>\n",
       "      <td>0.00</td>\n",
       "      <td>0.00</td>\n",
       "      <td>0.00</td>\n",
       "      <td>0.00</td>\n",
       "      <td>0.00</td>\n",
       "      <td>0.00</td>\n",
       "    </tr>\n",
       "    <tr>\n",
       "      <th>77</th>\n",
       "      <td>KAZ</td>\n",
       "      <td>32</td>\n",
       "      <td>0</td>\n",
       "      <td>0</td>\n",
       "      <td>0</td>\n",
       "      <td>0</td>\n",
       "      <td>0</td>\n",
       "      <td>0</td>\n",
       "      <td>0.41</td>\n",
       "      <td>0.00</td>\n",
       "      <td>0.00</td>\n",
       "      <td>0.00</td>\n",
       "      <td>0.00</td>\n",
       "      <td>0.00</td>\n",
       "      <td>0.00</td>\n",
       "    </tr>\n",
       "    <tr>\n",
       "      <th>78</th>\n",
       "      <td>KGZ</td>\n",
       "      <td>1</td>\n",
       "      <td>0</td>\n",
       "      <td>0</td>\n",
       "      <td>0</td>\n",
       "      <td>0</td>\n",
       "      <td>0</td>\n",
       "      <td>0</td>\n",
       "      <td>0.01</td>\n",
       "      <td>0.00</td>\n",
       "      <td>0.00</td>\n",
       "      <td>0.00</td>\n",
       "      <td>0.00</td>\n",
       "      <td>0.00</td>\n",
       "      <td>0.00</td>\n",
       "    </tr>\n",
       "    <tr>\n",
       "      <th>79</th>\n",
       "      <td>VEN</td>\n",
       "      <td>8</td>\n",
       "      <td>2</td>\n",
       "      <td>0</td>\n",
       "      <td>0</td>\n",
       "      <td>0</td>\n",
       "      <td>0</td>\n",
       "      <td>0</td>\n",
       "      <td>0.10</td>\n",
       "      <td>0.09</td>\n",
       "      <td>0.00</td>\n",
       "      <td>0.00</td>\n",
       "      <td>0.00</td>\n",
       "      <td>0.00</td>\n",
       "      <td>0.00</td>\n",
       "    </tr>\n",
       "  </tbody>\n",
       "</table>\n",
       "<p>80 rows × 15 columns</p>\n",
       "</div>"
      ],
      "text/plain": [
       "   Country  Qualification  Semi-Final  Final  Podium  Bronze  Silver  Gold   \n",
       "0      JPN            651         386    134      66      20      25    21  \\\n",
       "1      RUS            425         197    109      62      22      17    23   \n",
       "2      FRA            628         299     81      24      10       7     7   \n",
       "3      AUT            390         142     75      51      18      11    22   \n",
       "4      GER            495         180     38      20       7       5     8   \n",
       "..     ...            ...         ...    ...     ...     ...     ...   ...   \n",
       "75     IRL             33           1      0       0       0       0     0   \n",
       "76     ARG             33           0      0       0       0       0     0   \n",
       "77     KAZ             32           0      0       0       0       0     0   \n",
       "78     KGZ              1           0      0       0       0       0     0   \n",
       "79     VEN              8           2      0       0       0       0     0   \n",
       "\n",
       "    Q_Pct  S_Pct  F_Pct  P_Pct  Bronze_Pct  Silver_Pct  Gold_Pct  \n",
       "0    8.36  18.15  20.43  10.14        3.07        3.84      3.23  \n",
       "1    5.46   9.26  16.62  14.59        5.18        4.00      5.41  \n",
       "2    8.06  14.06  12.35   3.82        1.59        1.11      1.11  \n",
       "3    5.01   6.68  11.43  13.08        4.62        2.82      5.64  \n",
       "4    6.35   8.46   5.79   4.04        1.41        1.01      1.62  \n",
       "..    ...    ...    ...    ...         ...         ...       ...  \n",
       "75   0.42   0.05   0.00   0.00        0.00        0.00      0.00  \n",
       "76   0.42   0.00   0.00   0.00        0.00        0.00      0.00  \n",
       "77   0.41   0.00   0.00   0.00        0.00        0.00      0.00  \n",
       "78   0.01   0.00   0.00   0.00        0.00        0.00      0.00  \n",
       "79   0.10   0.09   0.00   0.00        0.00        0.00      0.00  \n",
       "\n",
       "[80 rows x 15 columns]"
      ]
     },
     "execution_count": 12,
     "metadata": {},
     "output_type": "execute_result"
    }
   ],
   "source": [
    "country_stats = calculate_podiums(boulder_men_all_results, boulder_men_country_stats, True)\n",
    "country_stats"
   ]
  },
  {
   "cell_type": "code",
   "execution_count": 13,
   "id": "b1cc5308-e3f6-423b-99af-a152ec119d6f",
   "metadata": {
    "execution": {
     "iopub.execute_input": "2023-04-22T00:17:14.951469Z",
     "iopub.status.busy": "2023-04-22T00:17:14.951469Z",
     "iopub.status.idle": "2023-04-22T00:17:15.092625Z",
     "shell.execute_reply": "2023-04-22T00:17:15.092625Z",
     "shell.execute_reply.started": "2023-04-22T00:17:14.951469Z"
    },
    "tags": []
   },
   "outputs": [
    {
     "data": {
      "image/png": "[encoded data removed]",
      "text/plain": [
       "<Figure size 720x576 with 1 Axes>"
      ]
     },
     "metadata": {},
     "output_type": "display_data"
    }
   ],
   "source": [
    "title = \"Podium Counts by Country\"\n",
    "sub = \"Japan, Russia, and Austria produce the most successful climbers\"\n",
    "plot_bar(country_stats[country_stats['Podium'] > 0].sort_values('Podium',ascending=False), 'Podium', 'Country', title, sub, 0, 0.02, 110)"
   ]
  },
  {
   "cell_type": "markdown",
   "id": "4bdde00e-bb07-45c5-a481-35a315128864",
   "metadata": {},
   "source": [
    "## Country Performance Over Time\n",
    "\n",
    "Which countries had the strongest performance over time? We can create a new dataframe, one that shows the number of times a climber from a given country reached the final round of a world cup event per year. According to [section 8.6 of the IFSC Rules](https://cdn.ifsc-climbing.org/images/Website/2023_IFSC_Rules_112.pdf), the quota for the Final round shall be six (6) climbers. To properly view all climbers who made it to the final round, we shall be looking at all climbers who have a rank less than or equal to 6."
   ]
  },
  {
   "cell_type": "code",
   "execution_count": 14,
   "id": "1d8d8785-5420-4875-8855-f4efc4ea4481",
   "metadata": {
    "execution": {
     "iopub.execute_input": "2023-04-22T00:17:15.093601Z",
     "iopub.status.busy": "2023-04-22T00:17:15.093601Z",
     "iopub.status.idle": "2023-04-22T00:17:15.107558Z",
     "shell.execute_reply": "2023-04-22T00:17:15.107558Z",
     "shell.execute_reply.started": "2023-04-22T00:17:15.093601Z"
    },
    "tags": []
   },
   "outputs": [
    {
     "data": {
      "text/html": [
       "<div>\n",
       "<style scoped>\n",
       "    .dataframe tbody tr th:only-of-type {\n",
       "        vertical-align: middle;\n",
       "    }\n",
       "\n",
       "    .dataframe tbody tr th {\n",
       "        vertical-align: top;\n",
       "    }\n",
       "\n",
       "    .dataframe thead th {\n",
       "        text-align: right;\n",
       "    }\n",
       "</style>\n",
       "<table border=\"1\" class=\"dataframe\">\n",
       "  <thead>\n",
       "    <tr style=\"text-align: right;\">\n",
       "      <th>Country</th>\n",
       "      <th>AUS</th>\n",
       "      <th>AUT</th>\n",
       "      <th>BEL</th>\n",
       "      <th>CAN</th>\n",
       "      <th>CFR</th>\n",
       "      <th>CZE</th>\n",
       "      <th>FIN</th>\n",
       "      <th>FRA</th>\n",
       "      <th>GBR</th>\n",
       "      <th>GER</th>\n",
       "      <th>...</th>\n",
       "      <th>JPN</th>\n",
       "      <th>KOR</th>\n",
       "      <th>LAT</th>\n",
       "      <th>NED</th>\n",
       "      <th>POL</th>\n",
       "      <th>RUS</th>\n",
       "      <th>SLO</th>\n",
       "      <th>SUI</th>\n",
       "      <th>UKR</th>\n",
       "      <th>USA</th>\n",
       "    </tr>\n",
       "    <tr>\n",
       "      <th>Year</th>\n",
       "      <th></th>\n",
       "      <th></th>\n",
       "      <th></th>\n",
       "      <th></th>\n",
       "      <th></th>\n",
       "      <th></th>\n",
       "      <th></th>\n",
       "      <th></th>\n",
       "      <th></th>\n",
       "      <th></th>\n",
       "      <th></th>\n",
       "      <th></th>\n",
       "      <th></th>\n",
       "      <th></th>\n",
       "      <th></th>\n",
       "      <th></th>\n",
       "      <th></th>\n",
       "      <th></th>\n",
       "      <th></th>\n",
       "      <th></th>\n",
       "      <th></th>\n",
       "    </tr>\n",
       "  </thead>\n",
       "  <tbody>\n",
       "    <tr>\n",
       "      <th>2007</th>\n",
       "      <td>0</td>\n",
       "      <td>9</td>\n",
       "      <td>0</td>\n",
       "      <td>0</td>\n",
       "      <td>0</td>\n",
       "      <td>3</td>\n",
       "      <td>2</td>\n",
       "      <td>8</td>\n",
       "      <td>2</td>\n",
       "      <td>1</td>\n",
       "      <td>...</td>\n",
       "      <td>3</td>\n",
       "      <td>1</td>\n",
       "      <td>0</td>\n",
       "      <td>3</td>\n",
       "      <td>0</td>\n",
       "      <td>8</td>\n",
       "      <td>0</td>\n",
       "      <td>2</td>\n",
       "      <td>2</td>\n",
       "      <td>0</td>\n",
       "    </tr>\n",
       "    <tr>\n",
       "      <th>2008</th>\n",
       "      <td>0</td>\n",
       "      <td>10</td>\n",
       "      <td>0</td>\n",
       "      <td>2</td>\n",
       "      <td>0</td>\n",
       "      <td>0</td>\n",
       "      <td>0</td>\n",
       "      <td>6</td>\n",
       "      <td>1</td>\n",
       "      <td>1</td>\n",
       "      <td>...</td>\n",
       "      <td>3</td>\n",
       "      <td>0</td>\n",
       "      <td>0</td>\n",
       "      <td>1</td>\n",
       "      <td>0</td>\n",
       "      <td>7</td>\n",
       "      <td>1</td>\n",
       "      <td>0</td>\n",
       "      <td>2</td>\n",
       "      <td>3</td>\n",
       "    </tr>\n",
       "    <tr>\n",
       "      <th>2009</th>\n",
       "      <td>0</td>\n",
       "      <td>4</td>\n",
       "      <td>0</td>\n",
       "      <td>1</td>\n",
       "      <td>0</td>\n",
       "      <td>1</td>\n",
       "      <td>0</td>\n",
       "      <td>5</td>\n",
       "      <td>2</td>\n",
       "      <td>2</td>\n",
       "      <td>...</td>\n",
       "      <td>1</td>\n",
       "      <td>0</td>\n",
       "      <td>0</td>\n",
       "      <td>0</td>\n",
       "      <td>0</td>\n",
       "      <td>4</td>\n",
       "      <td>2</td>\n",
       "      <td>0</td>\n",
       "      <td>2</td>\n",
       "      <td>3</td>\n",
       "    </tr>\n",
       "    <tr>\n",
       "      <th>2010</th>\n",
       "      <td>0</td>\n",
       "      <td>6</td>\n",
       "      <td>0</td>\n",
       "      <td>1</td>\n",
       "      <td>0</td>\n",
       "      <td>6</td>\n",
       "      <td>0</td>\n",
       "      <td>3</td>\n",
       "      <td>2</td>\n",
       "      <td>0</td>\n",
       "      <td>...</td>\n",
       "      <td>5</td>\n",
       "      <td>0</td>\n",
       "      <td>0</td>\n",
       "      <td>1</td>\n",
       "      <td>0</td>\n",
       "      <td>9</td>\n",
       "      <td>2</td>\n",
       "      <td>3</td>\n",
       "      <td>2</td>\n",
       "      <td>1</td>\n",
       "    </tr>\n",
       "    <tr>\n",
       "      <th>2011</th>\n",
       "      <td>1</td>\n",
       "      <td>10</td>\n",
       "      <td>0</td>\n",
       "      <td>1</td>\n",
       "      <td>0</td>\n",
       "      <td>0</td>\n",
       "      <td>0</td>\n",
       "      <td>10</td>\n",
       "      <td>1</td>\n",
       "      <td>2</td>\n",
       "      <td>...</td>\n",
       "      <td>4</td>\n",
       "      <td>0</td>\n",
       "      <td>0</td>\n",
       "      <td>2</td>\n",
       "      <td>0</td>\n",
       "      <td>15</td>\n",
       "      <td>4</td>\n",
       "      <td>1</td>\n",
       "      <td>1</td>\n",
       "      <td>2</td>\n",
       "    </tr>\n",
       "  </tbody>\n",
       "</table>\n",
       "<p>5 rows × 22 columns</p>\n",
       "</div>"
      ],
      "text/plain": [
       "Country  AUS  AUT  BEL  CAN  CFR  CZE  FIN  FRA  GBR  GER  ...  JPN  KOR  LAT   \n",
       "Year                                                       ...                  \n",
       "2007       0    9    0    0    0    3    2    8    2    1  ...    3    1    0  \\\n",
       "2008       0   10    0    2    0    0    0    6    1    1  ...    3    0    0   \n",
       "2009       0    4    0    1    0    1    0    5    2    2  ...    1    0    0   \n",
       "2010       0    6    0    1    0    6    0    3    2    0  ...    5    0    0   \n",
       "2011       1   10    0    1    0    0    0   10    1    2  ...    4    0    0   \n",
       "\n",
       "Country  NED  POL  RUS  SLO  SUI  UKR  USA  \n",
       "Year                                        \n",
       "2007       3    0    8    0    2    2    0  \n",
       "2008       1    0    7    1    0    2    3  \n",
       "2009       0    0    4    2    0    2    3  \n",
       "2010       1    0    9    2    3    2    1  \n",
       "2011       2    0   15    4    1    1    2  \n",
       "\n",
       "[5 rows x 22 columns]"
      ]
     },
     "execution_count": 14,
     "metadata": {},
     "output_type": "execute_result"
    }
   ],
   "source": [
    "def get_country_yearly_stats(df):\n",
    "    \"\"\"\n",
    "    Returns df containing number of times a country has been represented in the finals.\n",
    "    \n",
    "    df: dataframe containing results for all bouldering events\n",
    "    \"\"\"\n",
    "    stats_df = df[(df['Rank'] <= 6) & (df['Rank'] > 0)] # Removes any -1 or 'DNS' competitors\n",
    "    # stats_df = stats_df.groupby(['Country', 'Year']).size().unstack().fillna(0).astype('int8').reset_index() # Works\n",
    "    stats_df = stats_df.groupby(['Year'])['Country'].value_counts().unstack().fillna(0).astype('int')#.reset_index() was using this one for plotly\n",
    "    return stats_df\n",
    "    \n",
    "country_perf = get_country_yearly_stats(boulder_men_all_results)\n",
    "country_perf.head()"
   ]
  },
  {
   "cell_type": "markdown",
   "id": "9a536598-3a8b-4675-9e97-5e0eda05ce88",
   "metadata": {},
   "source": [
    "The above dataframe contains the number of finalists per country, per year. We will make a visualization of this in a second. We can sum up the totals over all the years to see which country produces the most IFSC World Cup finalists."
   ]
  },
  {
   "cell_type": "code",
   "execution_count": 15,
   "id": "4a22a9e1-5b1b-48f8-a5cc-c13f72ed42c1",
   "metadata": {
    "execution": {
     "iopub.execute_input": "2023-04-22T00:17:15.108509Z",
     "iopub.status.busy": "2023-04-22T00:17:15.107558Z",
     "iopub.status.idle": "2023-04-22T00:17:15.113466Z",
     "shell.execute_reply": "2023-04-22T00:17:15.113389Z",
     "shell.execute_reply.started": "2023-04-22T00:17:15.108509Z"
    },
    "tags": []
   },
   "outputs": [
    {
     "data": {
      "text/plain": [
       "Country\n",
       "JPN    133\n",
       "RUS    106\n",
       "FRA     77\n",
       "AUT     74\n",
       "GER     37\n",
       "dtype: int64"
      ]
     },
     "execution_count": 15,
     "metadata": {},
     "output_type": "execute_result"
    }
   ],
   "source": [
    "total_finalists = country_perf.sum().sort_values(ascending=False)\n",
    "total_finalists.head()"
   ]
  },
  {
   "cell_type": "code",
   "execution_count": 16,
   "id": "a6cdf310-719c-4fd2-96ce-3300b78ff171",
   "metadata": {
    "execution": {
     "iopub.execute_input": "2023-04-22T00:17:15.114365Z",
     "iopub.status.busy": "2023-04-22T00:17:15.114365Z",
     "iopub.status.idle": "2023-04-22T00:17:15.121776Z",
     "shell.execute_reply": "2023-04-22T00:17:15.121776Z",
     "shell.execute_reply.started": "2023-04-22T00:17:15.114365Z"
    },
    "tags": []
   },
   "outputs": [],
   "source": [
    "def plot_line(df, title, sub, xoffset, yoffset, sig, subset=[]):\n",
    "    #figure details\n",
    "    fig = plt.figure(figsize=(14,12), facecolor='#f0f0f0')\n",
    "       \n",
    "    #plot details\n",
    "    if subset:\n",
    "        palette = ['#4167a6', '#9d65b4', '#ea5c97','#ff715d' ,'#ffa600']\n",
    "        ax = sns.lineplot(data=df[subset], linewidth=3.0, dashes=False, palette=palette[:len(subset)]) #displays only subset\n",
    "        ax = sns.lineplot(data=df.drop(subset, axis=1), linewidth=3.0, alpha=0.2)\n",
    "    else:\n",
    "        ax = sns.lineplot(data=df, linewidth=3.0) #displays each country equally\n",
    "    \n",
    "    # ax = sns.lineplot(data=df.drop(['JPN', 'RUS', 'AUT'], axis=1), linewidth=3.0, alpha=0.2)\n",
    "    ax.axhline(y = 0, color = \"black\", linewidth = 4, alpha = .7)\n",
    "    ax.legend(fontsize = 14, bbox_to_anchor=(1.02, 1), loc='upper left', borderaxespad=0)\n",
    "    ax.yaxis.label.set_visible(False)\n",
    "    ax.xaxis.label.set_visible(False)\n",
    "    ax.tick_params(axis='x', labelsize=12)\n",
    "    ax.tick_params(axis='y', labelsize=12)\n",
    "    \n",
    "    #title & subtitle\n",
    "    ax.text(xoffset, 0.93, s=title, fontsize=28, weight=\"bold\", alpha=.75, transform=fig.transFigure)\n",
    "    ax.text(xoffset, 0.9, s=sub, fontsize=21, alpha=.85, transform=fig.transFigure)\n",
    "    \n",
    "    #signature bar\n",
    "    ax.text(x=xoffset, y=yoffset,\n",
    "            s=\" ©NoahGampe\" + ' '*sig + \"Source: IFSC \",\n",
    "            fontsize=14, color=\"#f0f0f0\", backgroundcolor=\"grey\", transform=fig.transFigure)\n",
    "    \n",
    "    plt.show()\n",
    "    \n",
    "title = \"Number of Finalists Per Country Over Time\"\n",
    "sub = \"Japan begins to dominate after 2015, while Russia and France begin to fall behind\"\n",
    "# plot_line(country_perf, title, sub, 0.05, 0.055 ,160)\n",
    "# plot_line(country_perf, title, sub, 0.05, 0.055 ,180, ['JPN', 'RUS', 'FRA'])"
   ]
  },
  {
   "cell_type": "code",
   "execution_count": 17,
   "id": "488275a5-c3f9-4c4c-83f9-03d92a8530a7",
   "metadata": {
    "execution": {
     "iopub.execute_input": "2023-04-22T00:17:15.122751Z",
     "iopub.status.busy": "2023-04-22T00:17:15.122751Z",
     "iopub.status.idle": "2023-04-22T00:17:15.125680Z",
     "shell.execute_reply": "2023-04-22T00:17:15.125680Z",
     "shell.execute_reply.started": "2023-04-22T00:17:15.122751Z"
    },
    "tags": []
   },
   "outputs": [],
   "source": [
    "title=\"Number of Finalists Per Country Over Time <br><sup>Japan begins to dominate after 2015, while Russia and France fall behind\"\n",
    "years = [c for c in country_perf.index]\n",
    "countries = [v for v in list(country_perf.columns)]"
   ]
  },
  {
   "cell_type": "code",
   "execution_count": 18,
   "id": "1913ceb2-8836-40bd-af1d-b27eda47741b",
   "metadata": {
    "execution": {
     "iopub.execute_input": "2023-04-22T00:17:15.126655Z",
     "iopub.status.busy": "2023-04-22T00:17:15.126655Z",
     "iopub.status.idle": "2023-04-22T00:17:15.700016Z",
     "shell.execute_reply": "2023-04-22T00:17:15.700016Z",
     "shell.execute_reply.started": "2023-04-22T00:17:15.126655Z"
    },
    "tags": []
   },
   "outputs": [
    {
     "data": {
      "application/vnd.plotly.v1+json": {
       "config": {
        "plotlyServerURL": "https://plot.ly"
       },
       "data": [
        {
         "hovertemplate": "Country=AUS<br>Year=%{x}<br>value=%{y}<extra></extra>",
         "legendgroup": "AUS",
         "line": {
          "color": "#636efa",
          "dash": "solid"
         },
         "marker": {
          "symbol": "circle"
         },
         "mode": "lines",
         "name": "AUS",
         "orientation": "v",
         "showlegend": true,
         "type": "scatter",
         "x": [
          "2007",
          "2008",
          "2009",
          "2010",
          "2011",
          "2012",
          "2013",
          "2014",
          "2015",
          "2016",
          "2017",
          "2018",
          "2019",
          "2020",
          "2021",
          "2022"
         ],
         "xaxis": "x",
         "y": [
          0,
          0,
          0,
          0,
          1,
          0,
          1,
          2,
          0,
          0,
          0,
          0,
          0,
          0,
          0,
          0
         ],
         "yaxis": "y"
        },
        {
         "hovertemplate": "Country=AUT<br>Year=%{x}<br>value=%{y}<extra></extra>",
         "legendgroup": "AUT",
         "line": {
          "color": "#EF553B",
          "dash": "solid"
         },
         "marker": {
          "symbol": "circle"
         },
         "mode": "lines",
         "name": "AUT",
         "orientation": "v",
         "showlegend": true,
         "type": "scatter",
         "x": [
          "2007",
          "2008",
          "2009",
          "2010",
          "2011",
          "2012",
          "2013",
          "2014",
          "2015",
          "2016",
          "2017",
          "2018",
          "2019",
          "2020",
          "2021",
          "2022"
         ],
         "xaxis": "x",
         "y": [
          9,
          10,
          4,
          6,
          10,
          10,
          8,
          4,
          0,
          1,
          2,
          3,
          3,
          0,
          2,
          2
         ],
         "yaxis": "y"
        },
        {
         "hovertemplate": "Country=BEL<br>Year=%{x}<br>value=%{y}<extra></extra>",
         "legendgroup": "BEL",
         "line": {
          "color": "#00cc96",
          "dash": "solid"
         },
         "marker": {
          "symbol": "circle"
         },
         "mode": "lines",
         "name": "BEL",
         "orientation": "v",
         "showlegend": true,
         "type": "scatter",
         "x": [
          "2007",
          "2008",
          "2009",
          "2010",
          "2011",
          "2012",
          "2013",
          "2014",
          "2015",
          "2016",
          "2017",
          "2018",
          "2019",
          "2020",
          "2021",
          "2022"
         ],
         "xaxis": "x",
         "y": [
          0,
          0,
          0,
          0,
          0,
          0,
          0,
          0,
          0,
          0,
          0,
          0,
          0,
          1,
          1,
          0
         ],
         "yaxis": "y"
        },
        {
         "hovertemplate": "Country=CAN<br>Year=%{x}<br>value=%{y}<extra></extra>",
         "legendgroup": "CAN",
         "line": {
          "color": "#ab63fa",
          "dash": "solid"
         },
         "marker": {
          "symbol": "circle"
         },
         "mode": "lines",
         "name": "CAN",
         "orientation": "v",
         "showlegend": true,
         "type": "scatter",
         "x": [
          "2007",
          "2008",
          "2009",
          "2010",
          "2011",
          "2012",
          "2013",
          "2014",
          "2015",
          "2016",
          "2017",
          "2018",
          "2019",
          "2020",
          "2021",
          "2022"
         ],
         "xaxis": "x",
         "y": [
          0,
          2,
          1,
          1,
          1,
          4,
          4,
          3,
          2,
          2,
          0,
          1,
          1,
          0,
          0,
          0
         ],
         "yaxis": "y"
        },
        {
         "hovertemplate": "Country=CFR<br>Year=%{x}<br>value=%{y}<extra></extra>",
         "legendgroup": "CFR",
         "line": {
          "color": "#FFA15A",
          "dash": "solid"
         },
         "marker": {
          "symbol": "circle"
         },
         "mode": "lines",
         "name": "CFR",
         "orientation": "v",
         "showlegend": true,
         "type": "scatter",
         "x": [
          "2007",
          "2008",
          "2009",
          "2010",
          "2011",
          "2012",
          "2013",
          "2014",
          "2015",
          "2016",
          "2017",
          "2018",
          "2019",
          "2020",
          "2021",
          "2022"
         ],
         "xaxis": "x",
         "y": [
          0,
          0,
          0,
          0,
          0,
          0,
          0,
          0,
          0,
          0,
          0,
          0,
          0,
          0,
          1,
          0
         ],
         "yaxis": "y"
        },
        {
         "hovertemplate": "Country=CZE<br>Year=%{x}<br>value=%{y}<extra></extra>",
         "legendgroup": "CZE",
         "line": {
          "color": "#19d3f3",
          "dash": "solid"
         },
         "marker": {
          "symbol": "circle"
         },
         "mode": "lines",
         "name": "CZE",
         "orientation": "v",
         "showlegend": true,
         "type": "scatter",
         "x": [
          "2007",
          "2008",
          "2009",
          "2010",
          "2011",
          "2012",
          "2013",
          "2014",
          "2015",
          "2016",
          "2017",
          "2018",
          "2019",
          "2020",
          "2021",
          "2022"
         ],
         "xaxis": "x",
         "y": [
          3,
          0,
          1,
          6,
          0,
          0,
          0,
          2,
          4,
          3,
          0,
          0,
          5,
          0,
          2,
          0
         ],
         "yaxis": "y"
        },
        {
         "hovertemplate": "Country=FIN<br>Year=%{x}<br>value=%{y}<extra></extra>",
         "legendgroup": "FIN",
         "line": {
          "color": "#FF6692",
          "dash": "solid"
         },
         "marker": {
          "symbol": "circle"
         },
         "mode": "lines",
         "name": "FIN",
         "orientation": "v",
         "showlegend": true,
         "type": "scatter",
         "x": [
          "2007",
          "2008",
          "2009",
          "2010",
          "2011",
          "2012",
          "2013",
          "2014",
          "2015",
          "2016",
          "2017",
          "2018",
          "2019",
          "2020",
          "2021",
          "2022"
         ],
         "xaxis": "x",
         "y": [
          2,
          0,
          0,
          0,
          0,
          0,
          0,
          0,
          0,
          0,
          0,
          0,
          0,
          0,
          0,
          0
         ],
         "yaxis": "y"
        },
        {
         "hovertemplate": "Country=FRA<br>Year=%{x}<br>value=%{y}<extra></extra>",
         "legendgroup": "FRA",
         "line": {
          "color": "#B6E880",
          "dash": "solid"
         },
         "marker": {
          "symbol": "circle"
         },
         "mode": "lines",
         "name": "FRA",
         "orientation": "v",
         "showlegend": true,
         "type": "scatter",
         "x": [
          "2007",
          "2008",
          "2009",
          "2010",
          "2011",
          "2012",
          "2013",
          "2014",
          "2015",
          "2016",
          "2017",
          "2018",
          "2019",
          "2020",
          "2021",
          "2022"
         ],
         "xaxis": "x",
         "y": [
          8,
          6,
          5,
          3,
          10,
          5,
          5,
          12,
          4,
          8,
          3,
          1,
          1,
          0,
          2,
          4
         ],
         "yaxis": "y"
        },
        {
         "hovertemplate": "Country=GBR<br>Year=%{x}<br>value=%{y}<extra></extra>",
         "legendgroup": "GBR",
         "line": {
          "color": "#FF97FF",
          "dash": "solid"
         },
         "marker": {
          "symbol": "circle"
         },
         "mode": "lines",
         "name": "GBR",
         "orientation": "v",
         "showlegend": true,
         "type": "scatter",
         "x": [
          "2007",
          "2008",
          "2009",
          "2010",
          "2011",
          "2012",
          "2013",
          "2014",
          "2015",
          "2016",
          "2017",
          "2018",
          "2019",
          "2020",
          "2021",
          "2022"
         ],
         "xaxis": "x",
         "y": [
          2,
          1,
          2,
          2,
          1,
          3,
          0,
          0,
          0,
          1,
          0,
          1,
          0,
          0,
          0,
          1
         ],
         "yaxis": "y"
        },
        {
         "hovertemplate": "Country=GER<br>Year=%{x}<br>value=%{y}<extra></extra>",
         "legendgroup": "GER",
         "line": {
          "color": "#FECB52",
          "dash": "solid"
         },
         "marker": {
          "symbol": "circle"
         },
         "mode": "lines",
         "name": "GER",
         "orientation": "v",
         "showlegend": true,
         "type": "scatter",
         "x": [
          "2007",
          "2008",
          "2009",
          "2010",
          "2011",
          "2012",
          "2013",
          "2014",
          "2015",
          "2016",
          "2017",
          "2018",
          "2019",
          "2020",
          "2021",
          "2022"
         ],
         "xaxis": "x",
         "y": [
          1,
          1,
          2,
          0,
          2,
          3,
          5,
          7,
          4,
          2,
          2,
          1,
          4,
          0,
          0,
          3
         ],
         "yaxis": "y"
        },
        {
         "hovertemplate": "Country=ISR<br>Year=%{x}<br>value=%{y}<extra></extra>",
         "legendgroup": "ISR",
         "line": {
          "color": "#636efa",
          "dash": "solid"
         },
         "marker": {
          "symbol": "circle"
         },
         "mode": "lines",
         "name": "ISR",
         "orientation": "v",
         "showlegend": true,
         "type": "scatter",
         "x": [
          "2007",
          "2008",
          "2009",
          "2010",
          "2011",
          "2012",
          "2013",
          "2014",
          "2015",
          "2016",
          "2017",
          "2018",
          "2019",
          "2020",
          "2021",
          "2022"
         ],
         "xaxis": "x",
         "y": [
          0,
          0,
          0,
          0,
          0,
          0,
          0,
          0,
          0,
          0,
          0,
          1,
          0,
          1,
          1,
          0
         ],
         "yaxis": "y"
        },
        {
         "hovertemplate": "Country=ITA<br>Year=%{x}<br>value=%{y}<extra></extra>",
         "legendgroup": "ITA",
         "line": {
          "color": "#EF553B",
          "dash": "solid"
         },
         "marker": {
          "symbol": "circle"
         },
         "mode": "lines",
         "name": "ITA",
         "orientation": "v",
         "showlegend": true,
         "type": "scatter",
         "x": [
          "2007",
          "2008",
          "2009",
          "2010",
          "2011",
          "2012",
          "2013",
          "2014",
          "2015",
          "2016",
          "2017",
          "2018",
          "2019",
          "2020",
          "2021",
          "2022"
         ],
         "xaxis": "x",
         "y": [
          4,
          5,
          3,
          1,
          0,
          0,
          0,
          2,
          0,
          1,
          0,
          2,
          0,
          0,
          0,
          0
         ],
         "yaxis": "y"
        },
        {
         "hovertemplate": "Country=JPN<br>Year=%{x}<br>value=%{y}<extra></extra>",
         "legendgroup": "JPN",
         "line": {
          "color": "#00cc96",
          "dash": "solid"
         },
         "marker": {
          "symbol": "circle"
         },
         "mode": "lines",
         "name": "JPN",
         "orientation": "v",
         "showlegend": true,
         "type": "scatter",
         "x": [
          "2007",
          "2008",
          "2009",
          "2010",
          "2011",
          "2012",
          "2013",
          "2014",
          "2015",
          "2016",
          "2017",
          "2018",
          "2019",
          "2020",
          "2021",
          "2022"
         ],
         "xaxis": "x",
         "y": [
          3,
          3,
          1,
          5,
          4,
          5,
          4,
          6,
          4,
          12,
          23,
          18,
          17,
          0,
          10,
          18
         ],
         "yaxis": "y"
        },
        {
         "hovertemplate": "Country=KOR<br>Year=%{x}<br>value=%{y}<extra></extra>",
         "legendgroup": "KOR",
         "line": {
          "color": "#ab63fa",
          "dash": "solid"
         },
         "marker": {
          "symbol": "circle"
         },
         "mode": "lines",
         "name": "KOR",
         "orientation": "v",
         "showlegend": true,
         "type": "scatter",
         "x": [
          "2007",
          "2008",
          "2009",
          "2010",
          "2011",
          "2012",
          "2013",
          "2014",
          "2015",
          "2016",
          "2017",
          "2018",
          "2019",
          "2020",
          "2021",
          "2022"
         ],
         "xaxis": "x",
         "y": [
          1,
          0,
          0,
          0,
          0,
          1,
          0,
          2,
          4,
          4,
          5,
          5,
          3,
          0,
          0,
          4
         ],
         "yaxis": "y"
        },
        {
         "hovertemplate": "Country=LAT<br>Year=%{x}<br>value=%{y}<extra></extra>",
         "legendgroup": "LAT",
         "line": {
          "color": "#FFA15A",
          "dash": "solid"
         },
         "marker": {
          "symbol": "circle"
         },
         "mode": "lines",
         "name": "LAT",
         "orientation": "v",
         "showlegend": true,
         "type": "scatter",
         "x": [
          "2007",
          "2008",
          "2009",
          "2010",
          "2011",
          "2012",
          "2013",
          "2014",
          "2015",
          "2016",
          "2017",
          "2018",
          "2019",
          "2020",
          "2021",
          "2022"
         ],
         "xaxis": "x",
         "y": [
          0,
          0,
          0,
          0,
          0,
          0,
          0,
          0,
          0,
          2,
          0,
          0,
          0,
          0,
          0,
          0
         ],
         "yaxis": "y"
        },
        {
         "hovertemplate": "Country=NED<br>Year=%{x}<br>value=%{y}<extra></extra>",
         "legendgroup": "NED",
         "line": {
          "color": "#19d3f3",
          "dash": "solid"
         },
         "marker": {
          "symbol": "circle"
         },
         "mode": "lines",
         "name": "NED",
         "orientation": "v",
         "showlegend": true,
         "type": "scatter",
         "x": [
          "2007",
          "2008",
          "2009",
          "2010",
          "2011",
          "2012",
          "2013",
          "2014",
          "2015",
          "2016",
          "2017",
          "2018",
          "2019",
          "2020",
          "2021",
          "2022"
         ],
         "xaxis": "x",
         "y": [
          3,
          1,
          0,
          1,
          2,
          0,
          4,
          1,
          0,
          2,
          0,
          0,
          0,
          0,
          0,
          0
         ],
         "yaxis": "y"
        },
        {
         "hovertemplate": "Country=POL<br>Year=%{x}<br>value=%{y}<extra></extra>",
         "legendgroup": "POL",
         "line": {
          "color": "#FF6692",
          "dash": "solid"
         },
         "marker": {
          "symbol": "circle"
         },
         "mode": "lines",
         "name": "POL",
         "orientation": "v",
         "showlegend": true,
         "type": "scatter",
         "x": [
          "2007",
          "2008",
          "2009",
          "2010",
          "2011",
          "2012",
          "2013",
          "2014",
          "2015",
          "2016",
          "2017",
          "2018",
          "2019",
          "2020",
          "2021",
          "2022"
         ],
         "xaxis": "x",
         "y": [
          0,
          0,
          0,
          0,
          0,
          0,
          0,
          0,
          1,
          0,
          0,
          0,
          0,
          0,
          0,
          0
         ],
         "yaxis": "y"
        },
        {
         "hovertemplate": "Country=RUS<br>Year=%{x}<br>value=%{y}<extra></extra>",
         "legendgroup": "RUS",
         "line": {
          "color": "#B6E880",
          "dash": "solid"
         },
         "marker": {
          "symbol": "circle"
         },
         "mode": "lines",
         "name": "RUS",
         "orientation": "v",
         "showlegend": true,
         "type": "scatter",
         "x": [
          "2007",
          "2008",
          "2009",
          "2010",
          "2011",
          "2012",
          "2013",
          "2014",
          "2015",
          "2016",
          "2017",
          "2018",
          "2019",
          "2020",
          "2021",
          "2022"
         ],
         "xaxis": "x",
         "y": [
          8,
          7,
          4,
          9,
          15,
          11,
          12,
          11,
          4,
          10,
          5,
          4,
          3,
          3,
          0,
          0
         ],
         "yaxis": "y"
        },
        {
         "hovertemplate": "Country=SLO<br>Year=%{x}<br>value=%{y}<extra></extra>",
         "legendgroup": "SLO",
         "line": {
          "color": "#FF97FF",
          "dash": "solid"
         },
         "marker": {
          "symbol": "circle"
         },
         "mode": "lines",
         "name": "SLO",
         "orientation": "v",
         "showlegend": true,
         "type": "scatter",
         "x": [
          "2007",
          "2008",
          "2009",
          "2010",
          "2011",
          "2012",
          "2013",
          "2014",
          "2015",
          "2016",
          "2017",
          "2018",
          "2019",
          "2020",
          "2021",
          "2022"
         ],
         "xaxis": "x",
         "y": [
          0,
          1,
          2,
          2,
          4,
          0,
          1,
          2,
          0,
          0,
          2,
          10,
          4,
          1,
          3,
          1
         ],
         "yaxis": "y"
        },
        {
         "hovertemplate": "Country=SUI<br>Year=%{x}<br>value=%{y}<extra></extra>",
         "legendgroup": "SUI",
         "line": {
          "color": "#FECB52",
          "dash": "solid"
         },
         "marker": {
          "symbol": "circle"
         },
         "mode": "lines",
         "name": "SUI",
         "orientation": "v",
         "showlegend": true,
         "type": "scatter",
         "x": [
          "2007",
          "2008",
          "2009",
          "2010",
          "2011",
          "2012",
          "2013",
          "2014",
          "2015",
          "2016",
          "2017",
          "2018",
          "2019",
          "2020",
          "2021",
          "2022"
         ],
         "xaxis": "x",
         "y": [
          2,
          0,
          0,
          3,
          1,
          0,
          2,
          0,
          0,
          0,
          0,
          0,
          1,
          0,
          0,
          0
         ],
         "yaxis": "y"
        },
        {
         "hovertemplate": "Country=UKR<br>Year=%{x}<br>value=%{y}<extra></extra>",
         "legendgroup": "UKR",
         "line": {
          "color": "#636efa",
          "dash": "solid"
         },
         "marker": {
          "symbol": "circle"
         },
         "mode": "lines",
         "name": "UKR",
         "orientation": "v",
         "showlegend": true,
         "type": "scatter",
         "x": [
          "2007",
          "2008",
          "2009",
          "2010",
          "2011",
          "2012",
          "2013",
          "2014",
          "2015",
          "2016",
          "2017",
          "2018",
          "2019",
          "2020",
          "2021",
          "2022"
         ],
         "xaxis": "x",
         "y": [
          2,
          2,
          2,
          2,
          1,
          0,
          1,
          0,
          1,
          0,
          0,
          0,
          0,
          0,
          0,
          0
         ],
         "yaxis": "y"
        },
        {
         "hovertemplate": "Country=USA<br>Year=%{x}<br>value=%{y}<extra></extra>",
         "legendgroup": "USA",
         "line": {
          "color": "#EF553B",
          "dash": "solid"
         },
         "marker": {
          "symbol": "circle"
         },
         "mode": "lines",
         "name": "USA",
         "orientation": "v",
         "showlegend": true,
         "type": "scatter",
         "x": [
          "2007",
          "2008",
          "2009",
          "2010",
          "2011",
          "2012",
          "2013",
          "2014",
          "2015",
          "2016",
          "2017",
          "2018",
          "2019",
          "2020",
          "2021",
          "2022"
         ],
         "xaxis": "x",
         "y": [
          0,
          3,
          3,
          1,
          2,
          0,
          1,
          0,
          2,
          0,
          0,
          1,
          0,
          0,
          2,
          3
         ],
         "yaxis": "y"
        }
       ],
       "layout": {
        "height": 600,
        "legend": {
         "title": {
          "text": "Country"
         },
         "tracegroupgap": 0
        },
        "margin": {
         "b": 25,
         "l": 25,
         "r": 25,
         "t": 85
        },
        "paper_bgcolor": "#f0f0f0",
        "plot_bgcolor": "#f0f0f0",
        "template": {
         "data": {
          "bar": [
           {
            "error_x": {
             "color": "#2a3f5f"
            },
            "error_y": {
             "color": "#2a3f5f"
            },
            "marker": {
             "line": {
              "color": "#E5ECF6",
              "width": 0.5
             },
             "pattern": {
              "fillmode": "overlay",
              "size": 10,
              "solidity": 0.2
             }
            },
            "type": "bar"
           }
          ],
          "barpolar": [
           {
            "marker": {
             "line": {
              "color": "#E5ECF6",
              "width": 0.5
             },
             "pattern": {
              "fillmode": "overlay",
              "size": 10,
              "solidity": 0.2
             }
            },
            "type": "barpolar"
           }
          ],
          "carpet": [
           {
            "aaxis": {
             "endlinecolor": "#2a3f5f",
             "gridcolor": "white",
             "linecolor": "white",
             "minorgridcolor": "white",
             "startlinecolor": "#2a3f5f"
            },
            "baxis": {
             "endlinecolor": "#2a3f5f",
             "gridcolor": "white",
             "linecolor": "white",
             "minorgridcolor": "white",
             "startlinecolor": "#2a3f5f"
            },
            "type": "carpet"
           }
          ],
          "choropleth": [
           {
            "colorbar": {
             "outlinewidth": 0,
             "ticks": ""
            },
            "type": "choropleth"
           }
          ],
          "contour": [
           {
            "colorbar": {
             "outlinewidth": 0,
             "ticks": ""
            },
            "colorscale": [
             [
              0,
              "#0d0887"
             ],
             [
              0.1111111111111111,
              "#46039f"
             ],
             [
              0.2222222222222222,
              "#7201a8"
             ],
             [
              0.3333333333333333,
              "#9c179e"
             ],
             [
              0.4444444444444444,
              "#bd3786"
             ],
             [
              0.5555555555555556,
              "#d8576b"
             ],
             [
              0.6666666666666666,
              "#ed7953"
             ],
             [
              0.7777777777777778,
              "#fb9f3a"
             ],
             [
              0.8888888888888888,
              "#fdca26"
             ],
             [
              1,
              "#f0f921"
             ]
            ],
            "type": "contour"
           }
          ],
          "contourcarpet": [
           {
            "colorbar": {
             "outlinewidth": 0,
             "ticks": ""
            },
            "type": "contourcarpet"
           }
          ],
          "heatmap": [
           {
            "colorbar": {
             "outlinewidth": 0,
             "ticks": ""
            },
            "colorscale": [
             [
              0,
              "#0d0887"
             ],
             [
              0.1111111111111111,
              "#46039f"
             ],
             [
              0.2222222222222222,
              "#7201a8"
             ],
             [
              0.3333333333333333,
              "#9c179e"
             ],
             [
              0.4444444444444444,
              "#bd3786"
             ],
             [
              0.5555555555555556,
              "#d8576b"
             ],
             [
              0.6666666666666666,
              "#ed7953"
             ],
             [
              0.7777777777777778,
              "#fb9f3a"
             ],
             [
              0.8888888888888888,
              "#fdca26"
             ],
             [
              1,
              "#f0f921"
             ]
            ],
            "type": "heatmap"
           }
          ],
          "heatmapgl": [
           {
            "colorbar": {
             "outlinewidth": 0,
             "ticks": ""
            },
            "colorscale": [
             [
              0,
              "#0d0887"
             ],
             [
              0.1111111111111111,
              "#46039f"
             ],
             [
              0.2222222222222222,
              "#7201a8"
             ],
             [
              0.3333333333333333,
              "#9c179e"
             ],
             [
              0.4444444444444444,
              "#bd3786"
             ],
             [
              0.5555555555555556,
              "#d8576b"
             ],
             [
              0.6666666666666666,
              "#ed7953"
             ],
             [
              0.7777777777777778,
              "#fb9f3a"
             ],
             [
              0.8888888888888888,
              "#fdca26"
             ],
             [
              1,
              "#f0f921"
             ]
            ],
            "type": "heatmapgl"
           }
          ],
          "histogram": [
           {
            "marker": {
             "pattern": {
              "fillmode": "overlay",
              "size": 10,
              "solidity": 0.2
             }
            },
            "type": "histogram"
           }
          ],
          "histogram2d": [
           {
            "colorbar": {
             "outlinewidth": 0,
             "ticks": ""
            },
            "colorscale": [
             [
              0,
              "#0d0887"
             ],
             [
              0.1111111111111111,
              "#46039f"
             ],
             [
              0.2222222222222222,
              "#7201a8"
             ],
             [
              0.3333333333333333,
              "#9c179e"
             ],
             [
              0.4444444444444444,
              "#bd3786"
             ],
             [
              0.5555555555555556,
              "#d8576b"
             ],
             [
              0.6666666666666666,
              "#ed7953"
             ],
             [
              0.7777777777777778,
              "#fb9f3a"
             ],
             [
              0.8888888888888888,
              "#fdca26"
             ],
             [
              1,
              "#f0f921"
             ]
            ],
            "type": "histogram2d"
           }
          ],
          "histogram2dcontour": [
           {
            "colorbar": {
             "outlinewidth": 0,
             "ticks": ""
            },
            "colorscale": [
             [
              0,
              "#0d0887"
             ],
             [
              0.1111111111111111,
              "#46039f"
             ],
             [
              0.2222222222222222,
              "#7201a8"
             ],
             [
              0.3333333333333333,
              "#9c179e"
             ],
             [
              0.4444444444444444,
              "#bd3786"
             ],
             [
              0.5555555555555556,
              "#d8576b"
             ],
             [
              0.6666666666666666,
              "#ed7953"
             ],
             [
              0.7777777777777778,
              "#fb9f3a"
             ],
             [
              0.8888888888888888,
              "#fdca26"
             ],
             [
              1,
              "#f0f921"
             ]
            ],
            "type": "histogram2dcontour"
           }
          ],
          "mesh3d": [
           {
            "colorbar": {
             "outlinewidth": 0,
             "ticks": ""
            },
            "type": "mesh3d"
           }
          ],
          "parcoords": [
           {
            "line": {
             "colorbar": {
              "outlinewidth": 0,
              "ticks": ""
             }
            },
            "type": "parcoords"
           }
          ],
          "pie": [
           {
            "automargin": true,
            "type": "pie"
           }
          ],
          "scatter": [
           {
            "fillpattern": {
             "fillmode": "overlay",
             "size": 10,
             "solidity": 0.2
            },
            "type": "scatter"
           }
          ],
          "scatter3d": [
           {
            "line": {
             "colorbar": {
              "outlinewidth": 0,
              "ticks": ""
             }
            },
            "marker": {
             "colorbar": {
              "outlinewidth": 0,
              "ticks": ""
             }
            },
            "type": "scatter3d"
           }
          ],
          "scattercarpet": [
           {
            "marker": {
             "colorbar": {
              "outlinewidth": 0,
              "ticks": ""
             }
            },
            "type": "scattercarpet"
           }
          ],
          "scattergeo": [
           {
            "marker": {
             "colorbar": {
              "outlinewidth": 0,
              "ticks": ""
             }
            },
            "type": "scattergeo"
           }
          ],
          "scattergl": [
           {
            "marker": {
             "colorbar": {
              "outlinewidth": 0,
              "ticks": ""
             }
            },
            "type": "scattergl"
           }
          ],
          "scattermapbox": [
           {
            "marker": {
             "colorbar": {
              "outlinewidth": 0,
              "ticks": ""
             }
            },
            "type": "scattermapbox"
           }
          ],
          "scatterpolar": [
           {
            "marker": {
             "colorbar": {
              "outlinewidth": 0,
              "ticks": ""
             }
            },
            "type": "scatterpolar"
           }
          ],
          "scatterpolargl": [
           {
            "marker": {
             "colorbar": {
              "outlinewidth": 0,
              "ticks": ""
             }
            },
            "type": "scatterpolargl"
           }
          ],
          "scatterternary": [
           {
            "marker": {
             "colorbar": {
              "outlinewidth": 0,
              "ticks": ""
             }
            },
            "type": "scatterternary"
           }
          ],
          "surface": [
           {
            "colorbar": {
             "outlinewidth": 0,
             "ticks": ""
            },
            "colorscale": [
             [
              0,
              "#0d0887"
             ],
             [
              0.1111111111111111,
              "#46039f"
             ],
             [
              0.2222222222222222,
              "#7201a8"
             ],
             [
              0.3333333333333333,
              "#9c179e"
             ],
             [
              0.4444444444444444,
              "#bd3786"
             ],
             [
              0.5555555555555556,
              "#d8576b"
             ],
             [
              0.6666666666666666,
              "#ed7953"
             ],
             [
              0.7777777777777778,
              "#fb9f3a"
             ],
             [
              0.8888888888888888,
              "#fdca26"
             ],
             [
              1,
              "#f0f921"
             ]
            ],
            "type": "surface"
           }
          ],
          "table": [
           {
            "cells": {
             "fill": {
              "color": "#EBF0F8"
             },
             "line": {
              "color": "white"
             }
            },
            "header": {
             "fill": {
              "color": "#C8D4E3"
             },
             "line": {
              "color": "white"
             }
            },
            "type": "table"
           }
          ]
         },
         "layout": {
          "annotationdefaults": {
           "arrowcolor": "#2a3f5f",
           "arrowhead": 0,
           "arrowwidth": 1
          },
          "autotypenumbers": "strict",
          "coloraxis": {
           "colorbar": {
            "outlinewidth": 0,
            "ticks": ""
           }
          },
          "colorscale": {
           "diverging": [
            [
             0,
             "#8e0152"
            ],
            [
             0.1,
             "#c51b7d"
            ],
            [
             0.2,
             "#de77ae"
            ],
            [
             0.3,
             "#f1b6da"
            ],
            [
             0.4,
             "#fde0ef"
            ],
            [
             0.5,
             "#f7f7f7"
            ],
            [
             0.6,
             "#e6f5d0"
            ],
            [
             0.7,
             "#b8e186"
            ],
            [
             0.8,
             "#7fbc41"
            ],
            [
             0.9,
             "#4d9221"
            ],
            [
             1,
             "#276419"
            ]
           ],
           "sequential": [
            [
             0,
             "#0d0887"
            ],
            [
             0.1111111111111111,
             "#46039f"
            ],
            [
             0.2222222222222222,
             "#7201a8"
            ],
            [
             0.3333333333333333,
             "#9c179e"
            ],
            [
             0.4444444444444444,
             "#bd3786"
            ],
            [
             0.5555555555555556,
             "#d8576b"
            ],
            [
             0.6666666666666666,
             "#ed7953"
            ],
            [
             0.7777777777777778,
             "#fb9f3a"
            ],
            [
             0.8888888888888888,
             "#fdca26"
            ],
            [
             1,
             "#f0f921"
            ]
           ],
           "sequentialminus": [
            [
             0,
             "#0d0887"
            ],
            [
             0.1111111111111111,
             "#46039f"
            ],
            [
             0.2222222222222222,
             "#7201a8"
            ],
            [
             0.3333333333333333,
             "#9c179e"
            ],
            [
             0.4444444444444444,
             "#bd3786"
            ],
            [
             0.5555555555555556,
             "#d8576b"
            ],
            [
             0.6666666666666666,
             "#ed7953"
            ],
            [
             0.7777777777777778,
             "#fb9f3a"
            ],
            [
             0.8888888888888888,
             "#fdca26"
            ],
            [
             1,
             "#f0f921"
            ]
           ]
          },
          "colorway": [
           "#636efa",
           "#EF553B",
           "#00cc96",
           "#ab63fa",
           "#FFA15A",
           "#19d3f3",
           "#FF6692",
           "#B6E880",
           "#FF97FF",
           "#FECB52"
          ],
          "font": {
           "color": "#2a3f5f"
          },
          "geo": {
           "bgcolor": "white",
           "lakecolor": "white",
           "landcolor": "#E5ECF6",
           "showlakes": true,
           "showland": true,
           "subunitcolor": "white"
          },
          "hoverlabel": {
           "align": "left"
          },
          "hovermode": "closest",
          "mapbox": {
           "style": "light"
          },
          "paper_bgcolor": "white",
          "plot_bgcolor": "#E5ECF6",
          "polar": {
           "angularaxis": {
            "gridcolor": "white",
            "linecolor": "white",
            "ticks": ""
           },
           "bgcolor": "#E5ECF6",
           "radialaxis": {
            "gridcolor": "white",
            "linecolor": "white",
            "ticks": ""
           }
          },
          "scene": {
           "xaxis": {
            "backgroundcolor": "#E5ECF6",
            "gridcolor": "white",
            "gridwidth": 2,
            "linecolor": "white",
            "showbackground": true,
            "ticks": "",
            "zerolinecolor": "white"
           },
           "yaxis": {
            "backgroundcolor": "#E5ECF6",
            "gridcolor": "white",
            "gridwidth": 2,
            "linecolor": "white",
            "showbackground": true,
            "ticks": "",
            "zerolinecolor": "white"
           },
           "zaxis": {
            "backgroundcolor": "#E5ECF6",
            "gridcolor": "white",
            "gridwidth": 2,
            "linecolor": "white",
            "showbackground": true,
            "ticks": "",
            "zerolinecolor": "white"
           }
          },
          "shapedefaults": {
           "line": {
            "color": "#2a3f5f"
           }
          },
          "ternary": {
           "aaxis": {
            "gridcolor": "white",
            "linecolor": "white",
            "ticks": ""
           },
           "baxis": {
            "gridcolor": "white",
            "linecolor": "white",
            "ticks": ""
           },
           "bgcolor": "#E5ECF6",
           "caxis": {
            "gridcolor": "white",
            "linecolor": "white",
            "ticks": ""
           }
          },
          "title": {
           "x": 0.05
          },
          "xaxis": {
           "automargin": true,
           "gridcolor": "white",
           "linecolor": "white",
           "ticks": "",
           "title": {
            "standoff": 15
           },
           "zerolinecolor": "white",
           "zerolinewidth": 2
          },
          "yaxis": {
           "automargin": true,
           "gridcolor": "white",
           "linecolor": "white",
           "ticks": "",
           "title": {
            "standoff": 15
           },
           "zerolinecolor": "white",
           "zerolinewidth": 2
          }
         }
        },
        "title": {
         "font": {
          "size": 30
         },
         "text": "Number of Finalists Per Country Over Time <br><sup>Japan begins to dominate after 2015, while Russia and France fall behind"
        },
        "width": 1000,
        "xaxis": {
         "anchor": "y",
         "autorange": true,
         "domain": [
          0,
          1
         ],
         "gridcolor": "#cbcbcb",
         "linecolor": "black",
         "range": [
          0,
          15
         ],
         "showline": true,
         "title": {},
         "type": "category"
        },
        "yaxis": {
         "anchor": "x",
         "autorange": true,
         "domain": [
          0,
          1
         ],
         "gridcolor": "#cbcbcb",
         "range": [
          -1.277777777777778,
          24.27777777777778
         ],
         "showticklabels": true,
         "title": {},
         "type": "linear"
        }
       }
      },
      "text/html": [
       "<div>                            <div id=\"6c2137bf-6be0-45b4-a3db-3b4f4502e6cc\" class=\"plotly-graph-div\" style=\"height:600px; width:1000px;\"></div>            <script type=\"text/javascript\">                require([\"plotly\"], function(Plotly) {                    window.PLOTLYENV=window.PLOTLYENV || {};                                    if (document.getElementById(\"6c2137bf-6be0-45b4-a3db-3b4f4502e6cc\")) {                    Plotly.newPlot(                        \"6c2137bf-6be0-45b4-a3db-3b4f4502e6cc\",                        [{\"hovertemplate\":\"Country=AUS<br>Year=%{x}<br>value=%{y}<extra></extra>\",\"legendgroup\":\"AUS\",\"line\":{\"color\":\"#636efa\",\"dash\":\"solid\"},\"marker\":{\"symbol\":\"circle\"},\"mode\":\"lines\",\"name\":\"AUS\",\"orientation\":\"v\",\"showlegend\":true,\"x\":[\"2007\",\"2008\",\"2009\",\"2010\",\"2011\",\"2012\",\"2013\",\"2014\",\"2015\",\"2016\",\"2017\",\"2018\",\"2019\",\"2020\",\"2021\",\"2022\"],\"xaxis\":\"x\",\"y\":[0,0,0,0,1,0,1,2,0,0,0,0,0,0,0,0],\"yaxis\":\"y\",\"type\":\"scatter\"},{\"hovertemplate\":\"Country=AUT<br>Year=%{x}<br>value=%{y}<extra></extra>\",\"legendgroup\":\"AUT\",\"line\":{\"color\":\"#EF553B\",\"dash\":\"solid\"},\"marker\":{\"symbol\":\"circle\"},\"mode\":\"lines\",\"name\":\"AUT\",\"orientation\":\"v\",\"showlegend\":true,\"x\":[\"2007\",\"2008\",\"2009\",\"2010\",\"2011\",\"2012\",\"2013\",\"2014\",\"2015\",\"2016\",\"2017\",\"2018\",\"2019\",\"2020\",\"2021\",\"2022\"],\"xaxis\":\"x\",\"y\":[9,10,4,6,10,10,8,4,0,1,2,3,3,0,2,2],\"yaxis\":\"y\",\"type\":\"scatter\"},{\"hovertemplate\":\"Country=BEL<br>Year=%{x}<br>value=%{y}<extra></extra>\",\"legendgroup\":\"BEL\",\"line\":{\"color\":\"#00cc96\",\"dash\":\"solid\"},\"marker\":{\"symbol\":\"circle\"},\"mode\":\"lines\",\"name\":\"BEL\",\"orientation\":\"v\",\"showlegend\":true,\"x\":[\"2007\",\"2008\",\"2009\",\"2010\",\"2011\",\"2012\",\"2013\",\"2014\",\"2015\",\"2016\",\"2017\",\"2018\",\"2019\",\"2020\",\"2021\",\"2022\"],\"xaxis\":\"x\",\"y\":[0,0,0,0,0,0,0,0,0,0,0,0,0,1,1,0],\"yaxis\":\"y\",\"type\":\"scatter\"},{\"hovertemplate\":\"Country=CAN<br>Year=%{x}<br>value=%{y}<extra></extra>\",\"legendgroup\":\"CAN\",\"line\":{\"color\":\"#ab63fa\",\"dash\":\"solid\"},\"marker\":{\"symbol\":\"circle\"},\"mode\":\"lines\",\"name\":\"CAN\",\"orientation\":\"v\",\"showlegend\":true,\"x\":[\"2007\",\"2008\",\"2009\",\"2010\",\"2011\",\"2012\",\"2013\",\"2014\",\"2015\",\"2016\",\"2017\",\"2018\",\"2019\",\"2020\",\"2021\",\"2022\"],\"xaxis\":\"x\",\"y\":[0,2,1,1,1,4,4,3,2,2,0,1,1,0,0,0],\"yaxis\":\"y\",\"type\":\"scatter\"},{\"hovertemplate\":\"Country=CFR<br>Year=%{x}<br>value=%{y}<extra></extra>\",\"legendgroup\":\"CFR\",\"line\":{\"color\":\"#FFA15A\",\"dash\":\"solid\"},\"marker\":{\"symbol\":\"circle\"},\"mode\":\"lines\",\"name\":\"CFR\",\"orientation\":\"v\",\"showlegend\":true,\"x\":[\"2007\",\"2008\",\"2009\",\"2010\",\"2011\",\"2012\",\"2013\",\"2014\",\"2015\",\"2016\",\"2017\",\"2018\",\"2019\",\"2020\",\"2021\",\"2022\"],\"xaxis\":\"x\",\"y\":[0,0,0,0,0,0,0,0,0,0,0,0,0,0,1,0],\"yaxis\":\"y\",\"type\":\"scatter\"},{\"hovertemplate\":\"Country=CZE<br>Year=%{x}<br>value=%{y}<extra></extra>\",\"legendgroup\":\"CZE\",\"line\":{\"color\":\"#19d3f3\",\"dash\":\"solid\"},\"marker\":{\"symbol\":\"circle\"},\"mode\":\"lines\",\"name\":\"CZE\",\"orientation\":\"v\",\"showlegend\":true,\"x\":[\"2007\",\"2008\",\"2009\",\"2010\",\"2011\",\"2012\",\"2013\",\"2014\",\"2015\",\"2016\",\"2017\",\"2018\",\"2019\",\"2020\",\"2021\",\"2022\"],\"xaxis\":\"x\",\"y\":[3,0,1,6,0,0,0,2,4,3,0,0,5,0,2,0],\"yaxis\":\"y\",\"type\":\"scatter\"},{\"hovertemplate\":\"Country=FIN<br>Year=%{x}<br>value=%{y}<extra></extra>\",\"legendgroup\":\"FIN\",\"line\":{\"color\":\"#FF6692\",\"dash\":\"solid\"},\"marker\":{\"symbol\":\"circle\"},\"mode\":\"lines\",\"name\":\"FIN\",\"orientation\":\"v\",\"showlegend\":true,\"x\":[\"2007\",\"2008\",\"2009\",\"2010\",\"2011\",\"2012\",\"2013\",\"2014\",\"2015\",\"2016\",\"2017\",\"2018\",\"2019\",\"2020\",\"2021\",\"2022\"],\"xaxis\":\"x\",\"y\":[2,0,0,0,0,0,0,0,0,0,0,0,0,0,0,0],\"yaxis\":\"y\",\"type\":\"scatter\"},{\"hovertemplate\":\"Country=FRA<br>Year=%{x}<br>value=%{y}<extra></extra>\",\"legendgroup\":\"FRA\",\"line\":{\"color\":\"#B6E880\",\"dash\":\"solid\"},\"marker\":{\"symbol\":\"circle\"},\"mode\":\"lines\",\"name\":\"FRA\",\"orientation\":\"v\",\"showlegend\":true,\"x\":[\"2007\",\"2008\",\"2009\",\"2010\",\"2011\",\"2012\",\"2013\",\"2014\",\"2015\",\"2016\",\"2017\",\"2018\",\"2019\",\"2020\",\"2021\",\"2022\"],\"xaxis\":\"x\",\"y\":[8,6,5,3,10,5,5,12,4,8,3,1,1,0,2,4],\"yaxis\":\"y\",\"type\":\"scatter\"},{\"hovertemplate\":\"Country=GBR<br>Year=%{x}<br>value=%{y}<extra></extra>\",\"legendgroup\":\"GBR\",\"line\":{\"color\":\"#FF97FF\",\"dash\":\"solid\"},\"marker\":{\"symbol\":\"circle\"},\"mode\":\"lines\",\"name\":\"GBR\",\"orientation\":\"v\",\"showlegend\":true,\"x\":[\"2007\",\"2008\",\"2009\",\"2010\",\"2011\",\"2012\",\"2013\",\"2014\",\"2015\",\"2016\",\"2017\",\"2018\",\"2019\",\"2020\",\"2021\",\"2022\"],\"xaxis\":\"x\",\"y\":[2,1,2,2,1,3,0,0,0,1,0,1,0,0,0,1],\"yaxis\":\"y\",\"type\":\"scatter\"},{\"hovertemplate\":\"Country=GER<br>Year=%{x}<br>value=%{y}<extra></extra>\",\"legendgroup\":\"GER\",\"line\":{\"color\":\"#FECB52\",\"dash\":\"solid\"},\"marker\":{\"symbol\":\"circle\"},\"mode\":\"lines\",\"name\":\"GER\",\"orientation\":\"v\",\"showlegend\":true,\"x\":[\"2007\",\"2008\",\"2009\",\"2010\",\"2011\",\"2012\",\"2013\",\"2014\",\"2015\",\"2016\",\"2017\",\"2018\",\"2019\",\"2020\",\"2021\",\"2022\"],\"xaxis\":\"x\",\"y\":[1,1,2,0,2,3,5,7,4,2,2,1,4,0,0,3],\"yaxis\":\"y\",\"type\":\"scatter\"},{\"hovertemplate\":\"Country=ISR<br>Year=%{x}<br>value=%{y}<extra></extra>\",\"legendgroup\":\"ISR\",\"line\":{\"color\":\"#636efa\",\"dash\":\"solid\"},\"marker\":{\"symbol\":\"circle\"},\"mode\":\"lines\",\"name\":\"ISR\",\"orientation\":\"v\",\"showlegend\":true,\"x\":[\"2007\",\"2008\",\"2009\",\"2010\",\"2011\",\"2012\",\"2013\",\"2014\",\"2015\",\"2016\",\"2017\",\"2018\",\"2019\",\"2020\",\"2021\",\"2022\"],\"xaxis\":\"x\",\"y\":[0,0,0,0,0,0,0,0,0,0,0,1,0,1,1,0],\"yaxis\":\"y\",\"type\":\"scatter\"},{\"hovertemplate\":\"Country=ITA<br>Year=%{x}<br>value=%{y}<extra></extra>\",\"legendgroup\":\"ITA\",\"line\":{\"color\":\"#EF553B\",\"dash\":\"solid\"},\"marker\":{\"symbol\":\"circle\"},\"mode\":\"lines\",\"name\":\"ITA\",\"orientation\":\"v\",\"showlegend\":true,\"x\":[\"2007\",\"2008\",\"2009\",\"2010\",\"2011\",\"2012\",\"2013\",\"2014\",\"2015\",\"2016\",\"2017\",\"2018\",\"2019\",\"2020\",\"2021\",\"2022\"],\"xaxis\":\"x\",\"y\":[4,5,3,1,0,0,0,2,0,1,0,2,0,0,0,0],\"yaxis\":\"y\",\"type\":\"scatter\"},{\"hovertemplate\":\"Country=JPN<br>Year=%{x}<br>value=%{y}<extra></extra>\",\"legendgroup\":\"JPN\",\"line\":{\"color\":\"#00cc96\",\"dash\":\"solid\"},\"marker\":{\"symbol\":\"circle\"},\"mode\":\"lines\",\"name\":\"JPN\",\"orientation\":\"v\",\"showlegend\":true,\"x\":[\"2007\",\"2008\",\"2009\",\"2010\",\"2011\",\"2012\",\"2013\",\"2014\",\"2015\",\"2016\",\"2017\",\"2018\",\"2019\",\"2020\",\"2021\",\"2022\"],\"xaxis\":\"x\",\"y\":[3,3,1,5,4,5,4,6,4,12,23,18,17,0,10,18],\"yaxis\":\"y\",\"type\":\"scatter\"},{\"hovertemplate\":\"Country=KOR<br>Year=%{x}<br>value=%{y}<extra></extra>\",\"legendgroup\":\"KOR\",\"line\":{\"color\":\"#ab63fa\",\"dash\":\"solid\"},\"marker\":{\"symbol\":\"circle\"},\"mode\":\"lines\",\"name\":\"KOR\",\"orientation\":\"v\",\"showlegend\":true,\"x\":[\"2007\",\"2008\",\"2009\",\"2010\",\"2011\",\"2012\",\"2013\",\"2014\",\"2015\",\"2016\",\"2017\",\"2018\",\"2019\",\"2020\",\"2021\",\"2022\"],\"xaxis\":\"x\",\"y\":[1,0,0,0,0,1,0,2,4,4,5,5,3,0,0,4],\"yaxis\":\"y\",\"type\":\"scatter\"},{\"hovertemplate\":\"Country=LAT<br>Year=%{x}<br>value=%{y}<extra></extra>\",\"legendgroup\":\"LAT\",\"line\":{\"color\":\"#FFA15A\",\"dash\":\"solid\"},\"marker\":{\"symbol\":\"circle\"},\"mode\":\"lines\",\"name\":\"LAT\",\"orientation\":\"v\",\"showlegend\":true,\"x\":[\"2007\",\"2008\",\"2009\",\"2010\",\"2011\",\"2012\",\"2013\",\"2014\",\"2015\",\"2016\",\"2017\",\"2018\",\"2019\",\"2020\",\"2021\",\"2022\"],\"xaxis\":\"x\",\"y\":[0,0,0,0,0,0,0,0,0,2,0,0,0,0,0,0],\"yaxis\":\"y\",\"type\":\"scatter\"},{\"hovertemplate\":\"Country=NED<br>Year=%{x}<br>value=%{y}<extra></extra>\",\"legendgroup\":\"NED\",\"line\":{\"color\":\"#19d3f3\",\"dash\":\"solid\"},\"marker\":{\"symbol\":\"circle\"},\"mode\":\"lines\",\"name\":\"NED\",\"orientation\":\"v\",\"showlegend\":true,\"x\":[\"2007\",\"2008\",\"2009\",\"2010\",\"2011\",\"2012\",\"2013\",\"2014\",\"2015\",\"2016\",\"2017\",\"2018\",\"2019\",\"2020\",\"2021\",\"2022\"],\"xaxis\":\"x\",\"y\":[3,1,0,1,2,0,4,1,0,2,0,0,0,0,0,0],\"yaxis\":\"y\",\"type\":\"scatter\"},{\"hovertemplate\":\"Country=POL<br>Year=%{x}<br>value=%{y}<extra></extra>\",\"legendgroup\":\"POL\",\"line\":{\"color\":\"#FF6692\",\"dash\":\"solid\"},\"marker\":{\"symbol\":\"circle\"},\"mode\":\"lines\",\"name\":\"POL\",\"orientation\":\"v\",\"showlegend\":true,\"x\":[\"2007\",\"2008\",\"2009\",\"2010\",\"2011\",\"2012\",\"2013\",\"2014\",\"2015\",\"2016\",\"2017\",\"2018\",\"2019\",\"2020\",\"2021\",\"2022\"],\"xaxis\":\"x\",\"y\":[0,0,0,0,0,0,0,0,1,0,0,0,0,0,0,0],\"yaxis\":\"y\",\"type\":\"scatter\"},{\"hovertemplate\":\"Country=RUS<br>Year=%{x}<br>value=%{y}<extra></extra>\",\"legendgroup\":\"RUS\",\"line\":{\"color\":\"#B6E880\",\"dash\":\"solid\"},\"marker\":{\"symbol\":\"circle\"},\"mode\":\"lines\",\"name\":\"RUS\",\"orientation\":\"v\",\"showlegend\":true,\"x\":[\"2007\",\"2008\",\"2009\",\"2010\",\"2011\",\"2012\",\"2013\",\"2014\",\"2015\",\"2016\",\"2017\",\"2018\",\"2019\",\"2020\",\"2021\",\"2022\"],\"xaxis\":\"x\",\"y\":[8,7,4,9,15,11,12,11,4,10,5,4,3,3,0,0],\"yaxis\":\"y\",\"type\":\"scatter\"},{\"hovertemplate\":\"Country=SLO<br>Year=%{x}<br>value=%{y}<extra></extra>\",\"legendgroup\":\"SLO\",\"line\":{\"color\":\"#FF97FF\",\"dash\":\"solid\"},\"marker\":{\"symbol\":\"circle\"},\"mode\":\"lines\",\"name\":\"SLO\",\"orientation\":\"v\",\"showlegend\":true,\"x\":[\"2007\",\"2008\",\"2009\",\"2010\",\"2011\",\"2012\",\"2013\",\"2014\",\"2015\",\"2016\",\"2017\",\"2018\",\"2019\",\"2020\",\"2021\",\"2022\"],\"xaxis\":\"x\",\"y\":[0,1,2,2,4,0,1,2,0,0,2,10,4,1,3,1],\"yaxis\":\"y\",\"type\":\"scatter\"},{\"hovertemplate\":\"Country=SUI<br>Year=%{x}<br>value=%{y}<extra></extra>\",\"legendgroup\":\"SUI\",\"line\":{\"color\":\"#FECB52\",\"dash\":\"solid\"},\"marker\":{\"symbol\":\"circle\"},\"mode\":\"lines\",\"name\":\"SUI\",\"orientation\":\"v\",\"showlegend\":true,\"x\":[\"2007\",\"2008\",\"2009\",\"2010\",\"2011\",\"2012\",\"2013\",\"2014\",\"2015\",\"2016\",\"2017\",\"2018\",\"2019\",\"2020\",\"2021\",\"2022\"],\"xaxis\":\"x\",\"y\":[2,0,0,3,1,0,2,0,0,0,0,0,1,0,0,0],\"yaxis\":\"y\",\"type\":\"scatter\"},{\"hovertemplate\":\"Country=UKR<br>Year=%{x}<br>value=%{y}<extra></extra>\",\"legendgroup\":\"UKR\",\"line\":{\"color\":\"#636efa\",\"dash\":\"solid\"},\"marker\":{\"symbol\":\"circle\"},\"mode\":\"lines\",\"name\":\"UKR\",\"orientation\":\"v\",\"showlegend\":true,\"x\":[\"2007\",\"2008\",\"2009\",\"2010\",\"2011\",\"2012\",\"2013\",\"2014\",\"2015\",\"2016\",\"2017\",\"2018\",\"2019\",\"2020\",\"2021\",\"2022\"],\"xaxis\":\"x\",\"y\":[2,2,2,2,1,0,1,0,1,0,0,0,0,0,0,0],\"yaxis\":\"y\",\"type\":\"scatter\"},{\"hovertemplate\":\"Country=USA<br>Year=%{x}<br>value=%{y}<extra></extra>\",\"legendgroup\":\"USA\",\"line\":{\"color\":\"#EF553B\",\"dash\":\"solid\"},\"marker\":{\"symbol\":\"circle\"},\"mode\":\"lines\",\"name\":\"USA\",\"orientation\":\"v\",\"showlegend\":true,\"x\":[\"2007\",\"2008\",\"2009\",\"2010\",\"2011\",\"2012\",\"2013\",\"2014\",\"2015\",\"2016\",\"2017\",\"2018\",\"2019\",\"2020\",\"2021\",\"2022\"],\"xaxis\":\"x\",\"y\":[0,3,3,1,2,0,1,0,2,0,0,1,0,0,2,3],\"yaxis\":\"y\",\"type\":\"scatter\"}],                        {\"template\":{\"data\":{\"histogram2dcontour\":[{\"type\":\"histogram2dcontour\",\"colorbar\":{\"outlinewidth\":0,\"ticks\":\"\"},\"colorscale\":[[0.0,\"#0d0887\"],[0.1111111111111111,\"#46039f\"],[0.2222222222222222,\"#7201a8\"],[0.3333333333333333,\"#9c179e\"],[0.4444444444444444,\"#bd3786\"],[0.5555555555555556,\"#d8576b\"],[0.6666666666666666,\"#ed7953\"],[0.7777777777777778,\"#fb9f3a\"],[0.8888888888888888,\"#fdca26\"],[1.0,\"#f0f921\"]]}],\"choropleth\":[{\"type\":\"choropleth\",\"colorbar\":{\"outlinewidth\":0,\"ticks\":\"\"}}],\"histogram2d\":[{\"type\":\"histogram2d\",\"colorbar\":{\"outlinewidth\":0,\"ticks\":\"\"},\"colorscale\":[[0.0,\"#0d0887\"],[0.1111111111111111,\"#46039f\"],[0.2222222222222222,\"#7201a8\"],[0.3333333333333333,\"#9c179e\"],[0.4444444444444444,\"#bd3786\"],[0.5555555555555556,\"#d8576b\"],[0.6666666666666666,\"#ed7953\"],[0.7777777777777778,\"#fb9f3a\"],[0.8888888888888888,\"#fdca26\"],[1.0,\"#f0f921\"]]}],\"heatmap\":[{\"type\":\"heatmap\",\"colorbar\":{\"outlinewidth\":0,\"ticks\":\"\"},\"colorscale\":[[0.0,\"#0d0887\"],[0.1111111111111111,\"#46039f\"],[0.2222222222222222,\"#7201a8\"],[0.3333333333333333,\"#9c179e\"],[0.4444444444444444,\"#bd3786\"],[0.5555555555555556,\"#d8576b\"],[0.6666666666666666,\"#ed7953\"],[0.7777777777777778,\"#fb9f3a\"],[0.8888888888888888,\"#fdca26\"],[1.0,\"#f0f921\"]]}],\"heatmapgl\":[{\"type\":\"heatmapgl\",\"colorbar\":{\"outlinewidth\":0,\"ticks\":\"\"},\"colorscale\":[[0.0,\"#0d0887\"],[0.1111111111111111,\"#46039f\"],[0.2222222222222222,\"#7201a8\"],[0.3333333333333333,\"#9c179e\"],[0.4444444444444444,\"#bd3786\"],[0.5555555555555556,\"#d8576b\"],[0.6666666666666666,\"#ed7953\"],[0.7777777777777778,\"#fb9f3a\"],[0.8888888888888888,\"#fdca26\"],[1.0,\"#f0f921\"]]}],\"contourcarpet\":[{\"type\":\"contourcarpet\",\"colorbar\":{\"outlinewidth\":0,\"ticks\":\"\"}}],\"contour\":[{\"type\":\"contour\",\"colorbar\":{\"outlinewidth\":0,\"ticks\":\"\"},\"colorscale\":[[0.0,\"#0d0887\"],[0.1111111111111111,\"#46039f\"],[0.2222222222222222,\"#7201a8\"],[0.3333333333333333,\"#9c179e\"],[0.4444444444444444,\"#bd3786\"],[0.5555555555555556,\"#d8576b\"],[0.6666666666666666,\"#ed7953\"],[0.7777777777777778,\"#fb9f3a\"],[0.8888888888888888,\"#fdca26\"],[1.0,\"#f0f921\"]]}],\"surface\":[{\"type\":\"surface\",\"colorbar\":{\"outlinewidth\":0,\"ticks\":\"\"},\"colorscale\":[[0.0,\"#0d0887\"],[0.1111111111111111,\"#46039f\"],[0.2222222222222222,\"#7201a8\"],[0.3333333333333333,\"#9c179e\"],[0.4444444444444444,\"#bd3786\"],[0.5555555555555556,\"#d8576b\"],[0.6666666666666666,\"#ed7953\"],[0.7777777777777778,\"#fb9f3a\"],[0.8888888888888888,\"#fdca26\"],[1.0,\"#f0f921\"]]}],\"mesh3d\":[{\"type\":\"mesh3d\",\"colorbar\":{\"outlinewidth\":0,\"ticks\":\"\"}}],\"scatter\":[{\"fillpattern\":{\"fillmode\":\"overlay\",\"size\":10,\"solidity\":0.2},\"type\":\"scatter\"}],\"parcoords\":[{\"type\":\"parcoords\",\"line\":{\"colorbar\":{\"outlinewidth\":0,\"ticks\":\"\"}}}],\"scatterpolargl\":[{\"type\":\"scatterpolargl\",\"marker\":{\"colorbar\":{\"outlinewidth\":0,\"ticks\":\"\"}}}],\"bar\":[{\"error_x\":{\"color\":\"#2a3f5f\"},\"error_y\":{\"color\":\"#2a3f5f\"},\"marker\":{\"line\":{\"color\":\"#E5ECF6\",\"width\":0.5},\"pattern\":{\"fillmode\":\"overlay\",\"size\":10,\"solidity\":0.2}},\"type\":\"bar\"}],\"scattergeo\":[{\"type\":\"scattergeo\",\"marker\":{\"colorbar\":{\"outlinewidth\":0,\"ticks\":\"\"}}}],\"scatterpolar\":[{\"type\":\"scatterpolar\",\"marker\":{\"colorbar\":{\"outlinewidth\":0,\"ticks\":\"\"}}}],\"histogram\":[{\"marker\":{\"pattern\":{\"fillmode\":\"overlay\",\"size\":10,\"solidity\":0.2}},\"type\":\"histogram\"}],\"scattergl\":[{\"type\":\"scattergl\",\"marker\":{\"colorbar\":{\"outlinewidth\":0,\"ticks\":\"\"}}}],\"scatter3d\":[{\"type\":\"scatter3d\",\"line\":{\"colorbar\":{\"outlinewidth\":0,\"ticks\":\"\"}},\"marker\":{\"colorbar\":{\"outlinewidth\":0,\"ticks\":\"\"}}}],\"scattermapbox\":[{\"type\":\"scattermapbox\",\"marker\":{\"colorbar\":{\"outlinewidth\":0,\"ticks\":\"\"}}}],\"scatterternary\":[{\"type\":\"scatterternary\",\"marker\":{\"colorbar\":{\"outlinewidth\":0,\"ticks\":\"\"}}}],\"scattercarpet\":[{\"type\":\"scattercarpet\",\"marker\":{\"colorbar\":{\"outlinewidth\":0,\"ticks\":\"\"}}}],\"carpet\":[{\"aaxis\":{\"endlinecolor\":\"#2a3f5f\",\"gridcolor\":\"white\",\"linecolor\":\"white\",\"minorgridcolor\":\"white\",\"startlinecolor\":\"#2a3f5f\"},\"baxis\":{\"endlinecolor\":\"#2a3f5f\",\"gridcolor\":\"white\",\"linecolor\":\"white\",\"minorgridcolor\":\"white\",\"startlinecolor\":\"#2a3f5f\"},\"type\":\"carpet\"}],\"table\":[{\"cells\":{\"fill\":{\"color\":\"#EBF0F8\"},\"line\":{\"color\":\"white\"}},\"header\":{\"fill\":{\"color\":\"#C8D4E3\"},\"line\":{\"color\":\"white\"}},\"type\":\"table\"}],\"barpolar\":[{\"marker\":{\"line\":{\"color\":\"#E5ECF6\",\"width\":0.5},\"pattern\":{\"fillmode\":\"overlay\",\"size\":10,\"solidity\":0.2}},\"type\":\"barpolar\"}],\"pie\":[{\"automargin\":true,\"type\":\"pie\"}]},\"layout\":{\"autotypenumbers\":\"strict\",\"colorway\":[\"#636efa\",\"#EF553B\",\"#00cc96\",\"#ab63fa\",\"#FFA15A\",\"#19d3f3\",\"#FF6692\",\"#B6E880\",\"#FF97FF\",\"#FECB52\"],\"font\":{\"color\":\"#2a3f5f\"},\"hovermode\":\"closest\",\"hoverlabel\":{\"align\":\"left\"},\"paper_bgcolor\":\"white\",\"plot_bgcolor\":\"#E5ECF6\",\"polar\":{\"bgcolor\":\"#E5ECF6\",\"angularaxis\":{\"gridcolor\":\"white\",\"linecolor\":\"white\",\"ticks\":\"\"},\"radialaxis\":{\"gridcolor\":\"white\",\"linecolor\":\"white\",\"ticks\":\"\"}},\"ternary\":{\"bgcolor\":\"#E5ECF6\",\"aaxis\":{\"gridcolor\":\"white\",\"linecolor\":\"white\",\"ticks\":\"\"},\"baxis\":{\"gridcolor\":\"white\",\"linecolor\":\"white\",\"ticks\":\"\"},\"caxis\":{\"gridcolor\":\"white\",\"linecolor\":\"white\",\"ticks\":\"\"}},\"coloraxis\":{\"colorbar\":{\"outlinewidth\":0,\"ticks\":\"\"}},\"colorscale\":{\"sequential\":[[0.0,\"#0d0887\"],[0.1111111111111111,\"#46039f\"],[0.2222222222222222,\"#7201a8\"],[0.3333333333333333,\"#9c179e\"],[0.4444444444444444,\"#bd3786\"],[0.5555555555555556,\"#d8576b\"],[0.6666666666666666,\"#ed7953\"],[0.7777777777777778,\"#fb9f3a\"],[0.8888888888888888,\"#fdca26\"],[1.0,\"#f0f921\"]],\"sequentialminus\":[[0.0,\"#0d0887\"],[0.1111111111111111,\"#46039f\"],[0.2222222222222222,\"#7201a8\"],[0.3333333333333333,\"#9c179e\"],[0.4444444444444444,\"#bd3786\"],[0.5555555555555556,\"#d8576b\"],[0.6666666666666666,\"#ed7953\"],[0.7777777777777778,\"#fb9f3a\"],[0.8888888888888888,\"#fdca26\"],[1.0,\"#f0f921\"]],\"diverging\":[[0,\"#8e0152\"],[0.1,\"#c51b7d\"],[0.2,\"#de77ae\"],[0.3,\"#f1b6da\"],[0.4,\"#fde0ef\"],[0.5,\"#f7f7f7\"],[0.6,\"#e6f5d0\"],[0.7,\"#b8e186\"],[0.8,\"#7fbc41\"],[0.9,\"#4d9221\"],[1,\"#276419\"]]},\"xaxis\":{\"gridcolor\":\"white\",\"linecolor\":\"white\",\"ticks\":\"\",\"title\":{\"standoff\":15},\"zerolinecolor\":\"white\",\"automargin\":true,\"zerolinewidth\":2},\"yaxis\":{\"gridcolor\":\"white\",\"linecolor\":\"white\",\"ticks\":\"\",\"title\":{\"standoff\":15},\"zerolinecolor\":\"white\",\"automargin\":true,\"zerolinewidth\":2},\"scene\":{\"xaxis\":{\"backgroundcolor\":\"#E5ECF6\",\"gridcolor\":\"white\",\"linecolor\":\"white\",\"showbackground\":true,\"ticks\":\"\",\"zerolinecolor\":\"white\",\"gridwidth\":2},\"yaxis\":{\"backgroundcolor\":\"#E5ECF6\",\"gridcolor\":\"white\",\"linecolor\":\"white\",\"showbackground\":true,\"ticks\":\"\",\"zerolinecolor\":\"white\",\"gridwidth\":2},\"zaxis\":{\"backgroundcolor\":\"#E5ECF6\",\"gridcolor\":\"white\",\"linecolor\":\"white\",\"showbackground\":true,\"ticks\":\"\",\"zerolinecolor\":\"white\",\"gridwidth\":2}},\"shapedefaults\":{\"line\":{\"color\":\"#2a3f5f\"}},\"annotationdefaults\":{\"arrowcolor\":\"#2a3f5f\",\"arrowhead\":0,\"arrowwidth\":1},\"geo\":{\"bgcolor\":\"white\",\"landcolor\":\"#E5ECF6\",\"subunitcolor\":\"white\",\"showland\":true,\"showlakes\":true,\"lakecolor\":\"white\"},\"title\":{\"x\":0.05},\"mapbox\":{\"style\":\"light\"}}},\"xaxis\":{\"anchor\":\"y\",\"domain\":[0.0,1.0],\"title\":{},\"showline\":true,\"linecolor\":\"black\",\"gridcolor\":\"#cbcbcb\"},\"yaxis\":{\"anchor\":\"x\",\"domain\":[0.0,1.0],\"title\":{},\"showticklabels\":true,\"gridcolor\":\"#cbcbcb\"},\"legend\":{\"title\":{\"text\":\"Country\"},\"tracegroupgap\":0},\"margin\":{\"t\":85,\"l\":25,\"r\":25,\"b\":25},\"height\":600,\"width\":1000,\"title\":{\"font\":{\"size\":30},\"text\":\"Number of Finalists Per Country Over Time <br><sup>Japan begins to dominate after 2015, while Russia and France fall behind\"},\"plot_bgcolor\":\"#f0f0f0\",\"paper_bgcolor\":\"#f0f0f0\"},                        {\"responsive\": true}                    ).then(function(){\n",
       "                            \n",
       "var gd = document.getElementById('6c2137bf-6be0-45b4-a3db-3b4f4502e6cc');\n",
       "var x = new MutationObserver(function (mutations, observer) {{\n",
       "        var display = window.getComputedStyle(gd).display;\n",
       "        if (!display || display === 'none') {{\n",
       "            console.log([gd, 'removed!']);\n",
       "            Plotly.purge(gd);\n",
       "            observer.disconnect();\n",
       "        }}\n",
       "}});\n",
       "\n",
       "// Listen for the removal of the full notebook cells\n",
       "var notebookContainer = gd.closest('#notebook-container');\n",
       "if (notebookContainer) {{\n",
       "    x.observe(notebookContainer, {childList: true});\n",
       "}}\n",
       "\n",
       "// Listen for the clearing of the current output cell\n",
       "var outputEl = gd.closest('.output');\n",
       "if (outputEl) {{\n",
       "    x.observe(outputEl, {childList: true});\n",
       "}}\n",
       "\n",
       "                        })                };                });            </script>        </div>"
      ]
     },
     "metadata": {},
     "output_type": "display_data"
    }
   ],
   "source": [
    "fig = px.line(country_perf,\n",
    "              width=1000,\n",
    "              height=600)\n",
    "fig.update_layout(\n",
    "    title = dict(text=title, font=dict(size=30)),\n",
    "    plot_bgcolor = '#f0f0f0',\n",
    "    paper_bgcolor = '#f0f0f0',\n",
    "    yaxis_title = None,\n",
    "    xaxis_title = None,\n",
    "    margin=dict(l=25, r=25, t=85, b=25)\n",
    ")\n",
    "fig.update_xaxes(\n",
    "    showline=True,\n",
    "    linecolor='black',\n",
    "    gridcolor='#cbcbcb'\n",
    ")\n",
    "fig.update_yaxes(\n",
    "    showticklabels=True,\n",
    "    gridcolor='#cbcbcb'\n",
    ")"
   ]
  },
  {
   "cell_type": "markdown",
   "id": "9cdfcc25-f193-462b-bb70-e2eeb97794c6",
   "metadata": {},
   "source": [
    "If we examine the above results, it's very clear that Japan and Russia dominate bouldering competitions (in terms of the number of times one of their climbers reached the finals). Fascinatingly, Japan has reached the finals round at least once per year for every single year except 2020 - which was right in the middle of the COVID-19 pandemic, when the [IFSC cancelled two competition events](https://www.ifsc-climbing.org/index.php/news/388-ifsc-world-cups-in-salt-lake-city-and-seoul-cancelled) due to health and safety concerns. This resulted in 2020 only have a *single* bouldering event for the entire season. That one event was the European Continental Championships, so non-Europeans weren't allowed to compete anyways!\n",
    "\n",
    "## Top Climbers By Year"
   ]
  },
  {
   "cell_type": "code",
   "execution_count": null,
   "id": "1653bcce-9795-4f8c-8e2d-828592fa3551",
   "metadata": {
    "tags": []
   },
   "outputs": [],
   "source": [
    "def get_top_by_year(df):\n",
    "    \"\"\"\n",
    "    Returns a dataframe showing the top 5 climbers grouped by competition\n",
    "    year, based on the number of times they reached the podium.\n",
    "    \n",
    "    df: dataframe containing results for all bouldering events\n",
    "    \"\"\"\n",
    "    df = df[(df['Rank'] <= 3) & (df['Rank'] > 0)] # Only get climbers on podium\n",
    "    df = df.groupby(['Year'])[['Name']].value_counts().to_frame(name = 'Podiums').reset_index() # Each climber's podium count by year    \n",
    "    df = df.groupby(['Year'], sort=False).head(5).reset_index(drop = True).astype({'Year': 'int'}) # Top 5 climbers per year by podium count\n",
    "    return df\n",
    "    \n",
    "top_by_year = get_top_by_year(boulder_men_all_results)\n",
    "top_by_year[top_by_year['Year'] == 2022]"
   ]
  },
  {
   "cell_type": "code",
   "execution_count": null,
   "id": "c11afaa5-caf1-4298-a9f2-ec19f7d70b18",
   "metadata": {
    "tags": []
   },
   "outputs": [],
   "source": [
    "years = list(top_by_year['Year'].unique().astype(str))\n",
    "\n",
    "# Creates dictionary of dataframes - one for each year\n",
    "top5_dict = {}\n",
    "for year in years:\n",
    "    top5_dict[year] = top_by_year[top_by_year['Year'] == int(year)]\n",
    "\n",
    "title = \"Top 5 Climbers by Year<br><sup>Based on total number of podium positions achieved\"\n",
    "\n",
    "fig = go.Figure()\n",
    "\n",
    "# Adds trace for each year to our graph object\n",
    "for year in years:\n",
    "    fig.add_trace(\n",
    "        go.Bar(\n",
    "            x = top5_dict[year]['Name'],\n",
    "            y = top5_dict[year]['Podiums'],\n",
    "            name = year,\n",
    "            marker = dict(color = '#10baee'),\n",
    "            visible = True if year == years[-1] else False\n",
    "        )\n",
    "    )\n",
    "\n",
    "# Creates list of buttons for each year\n",
    "buttons_opts = []\n",
    "for i, year in enumerate(years):\n",
    "    args = [False] * len(years)\n",
    "    args[i] = True\n",
    "    \n",
    "    buttons_opts.append(\n",
    "        dict(\n",
    "            method = 'update',\n",
    "            label = year,\n",
    "            args = [{\n",
    "                'visible': args, #this is the key line!\n",
    "                'title': year,\n",
    "                'showlegend': False\n",
    "            }]\n",
    "        )\n",
    "    )\n",
    "\n",
    "# Styling\n",
    "fig.update_layout(\n",
    "    updatemenus = [go.layout.Updatemenu(\n",
    "        active = len(years)-1,\n",
    "        buttons = buttons_opts,\n",
    "        x = 1.12,\n",
    "        xanchor = 'right',\n",
    "        y = 1.1,\n",
    "        yanchor = 'top'\n",
    "        )],\n",
    "    yaxis={ \n",
    "        'tickvals': [*range(0, 10)]\n",
    "    },\n",
    "    title = dict(text=title, font=dict(size=30)),\n",
    "    width = 800,\n",
    "    height = 500,\n",
    "    plot_bgcolor = '#f0f0f0',\n",
    "    paper_bgcolor = '#f0f0f0',\n",
    "    yaxis_title = None,\n",
    "    xaxis_title = None,\n",
    "    margin=dict(l=25, r=25, t=85, b=25)\n",
    ")\n",
    "\n",
    "fig.update_xaxes(\n",
    "    showline=True,\n",
    "    linecolor='black',\n",
    "    # gridcolor='#cbcbcb'\n",
    ")\n",
    "\n",
    "fig.update_yaxes(\n",
    "    showticklabels=True,\n",
    "    gridcolor='#cbcbcb'\n",
    ")\n",
    "    \n",
    "fig.show()"
   ]
  },
  {
   "cell_type": "markdown",
   "id": "25363729-8ab9-4cbf-a0d9-158dd68a4beb",
   "metadata": {},
   "source": [
    "## Top Climbers By Country"
   ]
  },
  {
   "cell_type": "code",
   "execution_count": null,
   "id": "0f32beb6-e1a3-42e0-a925-e18b7ec0105a",
   "metadata": {
    "tags": []
   },
   "outputs": [],
   "source": [
    "def get_top_by_country(df):\n",
    "    \"\"\"\n",
    "    Returns a dataframe showing the top 3 climbers (if applicable)\n",
    "    grouped by country.\n",
    "    \n",
    "    df: dataframe containing results for all bouldering events\n",
    "    \"\"\"\n",
    "    df = df[(df['Rank'] <= 3) & (df['Rank'] > 0)] # Only get climbers on podium\n",
    "    # df = df[df['Rank'] == 1] # Only get climbers who won gold\n",
    "    df = df.groupby(['Country'])[['Name']].value_counts().to_frame(name = 'Podiums').reset_index() # Each climber's podium count by year    \n",
    "    df = df.groupby(['Country'], sort=False).head().reset_index(drop = True) # Top 3 climbers per year by country\n",
    "    return df\n",
    "    \n",
    "top_by_country = get_top_by_country(boulder_men_all_results)\n",
    "top_by_country.head()"
   ]
  },
  {
   "cell_type": "code",
   "execution_count": null,
   "id": "6c24f362-8202-4d44-aa81-34482fb597ee",
   "metadata": {
    "tags": []
   },
   "outputs": [],
   "source": [
    "countries = list(top_by_country['Country'].unique())\n",
    "\n",
    "# Creates dictionary of dataframes - one for each year\n",
    "top5country_dict = {}\n",
    "for country in countries:\n",
    "    top5country_dict[country] = top_by_country[top_by_country['Country'] == country]\n",
    "\n",
    "title = \"Top 5 Climbers by Country<br><sup>Based on total number of podium positions achieved\"\n",
    "\n",
    "fig = go.Figure()\n",
    "\n",
    "# Adds trace for each year to our graph object\n",
    "for country in countries:\n",
    "    fig.add_trace(\n",
    "        go.Bar(\n",
    "            x = top5country_dict[country]['Name'],\n",
    "            y = top5country_dict[country]['Podiums'],\n",
    "            name = country,\n",
    "            marker = dict(color = '#10baee'),\n",
    "            visible = True if country == countries[-1] else False\n",
    "        )\n",
    "    )\n",
    "\n",
    "# Creates list of buttons for each year\n",
    "buttons_opts = []\n",
    "for i, country in enumerate(countries):\n",
    "    args = [False] * len(countries)\n",
    "    args[i] = True\n",
    "    \n",
    "    buttons_opts.append(\n",
    "        dict(\n",
    "            method = 'update',\n",
    "            label = country,\n",
    "            args = [{\n",
    "                'visible': args, #this is the key line!\n",
    "                'title': country,\n",
    "                'showlegend': False\n",
    "            }]\n",
    "        )\n",
    "    )\n",
    "\n",
    "# Styling\n",
    "fig.update_layout(\n",
    "    updatemenus = [go.layout.Updatemenu(\n",
    "        active = len(countries)-1,\n",
    "        buttons = buttons_opts,\n",
    "        x = 1.12,\n",
    "        xanchor = 'right',\n",
    "        y = 1.1,\n",
    "        yanchor = 'top'\n",
    "        )],\n",
    "    yaxis={ \n",
    "        'tickvals': list(range(0,40,2))\n",
    "    },\n",
    "    title = dict(text=title, font=dict(size=30)),\n",
    "    width = 800,\n",
    "    height = 500,\n",
    "    plot_bgcolor = '#f0f0f0',\n",
    "    paper_bgcolor = '#f0f0f0',\n",
    "    yaxis_title = None,\n",
    "    xaxis_title = None,\n",
    "    margin=dict(l=25, r=25, t=85, b=25)\n",
    ")\n",
    "\n",
    "fig.update_xaxes(\n",
    "    showline=True,\n",
    "    linecolor='black',\n",
    "    # gridcolor='#cbcbcb'\n",
    ")\n",
    "\n",
    "fig.update_yaxes(\n",
    "    showticklabels=True,\n",
    "    gridcolor='#cbcbcb'\n",
    ")\n",
    "    \n",
    "fig.show()"
   ]
  },
  {
   "cell_type": "code",
   "execution_count": null,
   "id": "2f3dfbf7-d9f5-4305-b423-b3c796bfa756",
   "metadata": {},
   "outputs": [],
   "source": []
  }
 ],
 "metadata": {
  "kernelspec": {
   "display_name": "Python 3 (ipykernel)",
   "language": "python",
   "name": "python3"
  },
  "language_info": {
   "codemirror_mode": {
    "name": "ipython",
    "version": 3
   },
   "file_extension": ".py",
   "mimetype": "text/x-python",
   "name": "python",
   "nbconvert_exporter": "python",
   "pygments_lexer": "ipython3",
   "version": "3.10.2"
  },
  "widgets": {
   "application/vnd.jupyter.widget-state+json": {
    "state": {},
    "version_major": 2,
    "version_minor": 0
   }
  }
 },
 "nbformat": 4,
 "nbformat_minor": 5
}
