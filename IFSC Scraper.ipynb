{
 "cells": [
  {
   "cell_type": "code",
   "execution_count": 1,
   "id": "b00a0f91-3e6b-4b83-bf3c-0db841ea7924",
   "metadata": {
    "execution": {
     "iopub.execute_input": "2023-04-05T22:13:46.977719Z",
     "iopub.status.busy": "2023-04-05T22:13:46.976742Z",
     "iopub.status.idle": "2023-04-05T22:13:47.100050Z",
     "shell.execute_reply": "2023-04-05T22:13:47.100050Z",
     "shell.execute_reply.started": "2023-04-05T22:13:46.977719Z"
    },
    "tags": []
   },
   "outputs": [],
   "source": [
    "import pandas as pd\n",
    "import numpy as np\n",
    "import time\n",
    "\n",
    "from selenium import webdriver\n",
    "from selenium.webdriver.common.by import By\n",
    "from selenium.webdriver.support.ui import WebDriverWait\n",
    "from selenium.webdriver.support.ui import Select\n",
    "from selenium.webdriver.support import expected_conditions as EC\n",
    "from selenium.common.exceptions import TimeoutException"
   ]
  },
  {
   "cell_type": "code",
   "execution_count": 141,
   "id": "3b766d9d-36c2-41b9-acb0-7a413519ba06",
   "metadata": {
    "execution": {
     "iopub.execute_input": "2023-04-05T23:42:09.107310Z",
     "iopub.status.busy": "2023-04-05T23:42:09.107310Z",
     "iopub.status.idle": "2023-04-05T23:42:09.118050Z",
     "shell.execute_reply": "2023-04-05T23:42:09.118050Z",
     "shell.execute_reply.started": "2023-04-05T23:42:09.107310Z"
    },
    "tags": []
   },
   "outputs": [],
   "source": [
    "class IFSCScraper():\n",
    "    \"\"\"\n",
    "    Define a class for the scraper that will be used to gather data from the IFSC website\n",
    "    (ifsc-climbing.org)\n",
    "    Includes methods that allow for scraping different pages and different information\n",
    "    \"\"\"\n",
    "\n",
    "    def __init__(self, debug=False):\n",
    "        \"\"\"\n",
    "        Initialize a scraper object with its own browser instance\n",
    "        Input:\n",
    "            debug - Indicates whether this is a debug instance for quicker development\n",
    "        \"\"\"\n",
    "        self.debug = debug\n",
    "\n",
    "        try:\n",
    "            self.browser = webdriver.Firefox()\n",
    "        except:\n",
    "            print('Error: Could not create WebDriver object...')\n",
    "\n",
    "        time.sleep(1)\n",
    "    \n",
    "    def load_page(self, link, timeout=10, wait_after=5):\n",
    "        \"\"\"\n",
    "        Helper function that loads a page and waits for timeout\n",
    "        input:\n",
    "            link - Link to the page we wish to load\n",
    "            timeout - Seconds to wait before timing out\n",
    "            wait_after - Seconds to wait after loading\n",
    "        output:\n",
    "            N/A\n",
    "        \"\"\"\n",
    "\n",
    "        # Visit link\n",
    "        self.browser.get(link)\n",
    "\n",
    "        # Attempt to open link\n",
    "        try:\n",
    "            WebDriverWait(self.browser, timeout).until(EC.visibility_of_element_located((By.XPATH,\n",
    "            \"//div[@class='uk-container']\")))\n",
    "        except TimeoutException:\n",
    "            print(\"Timed out waiting for page \" + link + \" to load\")\n",
    "            self.browser.quit()\n",
    "\n",
    "        # Wait for page to load\n",
    "        time.sleep(wait_after)\n",
    "        \n",
    "    def get_comp_links(self):\n",
    "        \"\"\"\n",
    "        Parse the world-competition/last-result page to find and return comp names, dates, and links\n",
    "        input:\n",
    "            N/A\n",
    "        output:\n",
    "            List of touples containing comp names, dates, and url strings for each competition result page\n",
    "        \"\"\"\n",
    "\n",
    "        # Page url\n",
    "        url = 'https://www.ifsc-climbing.org/index.php/world-competition/last-result'\n",
    "\n",
    "        try:\n",
    "            self.load_page(url)\n",
    "            \n",
    "            # The dropdown menus to pick years/leagues/events is in an iframe - we need to switch to it\n",
    "            frame = self.browser.find_element(By.XPATH, '/html/body/div[1]/div[4]/div/iframe')\n",
    "            self.browser.switch_to.frame(frame)\n",
    "            \n",
    "            # Dropdown menus for each choice\n",
    "            year_dd     = self.browser.find_element(By.XPATH, '//select[@id=\"years\"]')\n",
    "            league_dd   = self.browser.find_element(By.XPATH, '//select[@id=\"indexes\"]')\n",
    "            event_dd    = self.browser.find_element(By.XPATH, '//select[@id=\"events\"]')\n",
    "            category_dd = self.browser.find_element(By.XPATH, '//select[@id=\"categories\"]')\n",
    "            \n",
    "            # Selenium Select class gets objects in dropdown and puts them in corresponding list\n",
    "            years_ob      = Select(year_dd).select_by_index(1)     #0 is most recent year\n",
    "            leagues_ob    = Select(league_dd).select_by_index(1)   #starts at index 1\n",
    "            \n",
    "            wait = WebDriverWait(self.browser, 5)\n",
    "            wait.until(EC.presence_of_element_located((By.XPATH, \"//select[@id='events']\")))\n",
    "            # wait.until(lambda x: x.find_element(By.XPATH, \"//select[@id='events']/option[text()='IFSC*']\"))\n",
    "            time.sleep(3)\n",
    "            \n",
    "            year_opts   = Select(year_dd).options\n",
    "            league_opts = Select(league_dd).options\n",
    "            event_opts  = Select(event_dd).options\n",
    "            cat_opts    = Select(category_dd).options\n",
    "                        \n",
    "            # Extracts the text from the objects and adds to list\n",
    "            years      = [x.text for x in year_opts]\n",
    "            leagues    = [x.text for x in league_opts]           \n",
    "            events     = [x.text for x in event_opts]\n",
    "            categories = [x.text for x in cat_opts]\n",
    "            \n",
    "            # print(len(year_opts))\n",
    "            # print(len(league_opts))\n",
    "            # print(len(events_opts))\n",
    "            # print(len(cat_opts))\n",
    "            print(years)\n",
    "            print(leagues)\n",
    "            print(events)\n",
    "            print(categories)\n",
    "        except:\n",
    "            self.browser.quit()\n",
    "\n",
    "        return year_opts, league_opts, event_opts, cat_opts\n",
    "        # return [(year, league) for year, league in zip(years, leagues)]"
   ]
  },
  {
   "cell_type": "code",
   "execution_count": 142,
   "id": "a93631f5-d614-4098-a75b-56bfaaaa7356",
   "metadata": {
    "execution": {
     "iopub.execute_input": "2023-04-05T23:42:09.630866Z",
     "iopub.status.busy": "2023-04-05T23:42:09.630866Z",
     "iopub.status.idle": "2023-04-05T23:42:27.155982Z",
     "shell.execute_reply": "2023-04-05T23:42:27.155982Z",
     "shell.execute_reply.started": "2023-04-05T23:42:09.630866Z"
    },
    "tags": []
   },
   "outputs": [
    {
     "name": "stdout",
     "output_type": "stream",
     "text": [
      "['2023', '2022', '2021', '2020', '2019', '2018', '2017', '2016', '2015', '2014', '2013', '2012', '2011', '2010', '2009', '2008', '2007', '2006', '2005', '2004', '2003', '2002', '2001', '2000', '1999', '1998', '1997', '1996', '1995', '1994', '1993', '1992', '1991', '1990']\n",
      "['Select league', 'World Cups and World Championships', 'IFSC Youth', 'IFSC Asia Adults', 'IFSC Asia Youth', 'IFSC Europe Adults', 'IFSC Europe Youth', 'Games', 'IFSC Pan America Adults', 'IFSC Africa', 'IFSC Paraclimbing', 'IFSC Oceania', 'Other events', 'Masters and Promotional Events']\n",
      "['Select event', 'IFSC - Climbing World Cup (B) - Meiringen (SUI) 2022', 'IFSC - Climbing World Cup (B,S) - Seoul (KOR) 2022', 'IFSC - Climbing World Cup (B,S) - Salt Lake City (USA) 2022', 'IFSC - Climbing World Cup (B,S) - Salt Lake City (USA) 2022', 'IFSC - Climbing World Cup (B) - Brixen (ITA) 2022', 'IFSC - Climbing World Cup (B,L) - Innsbruck (AUT) 2022', 'IFSC - Climbing World Cup (L,S) - Villars (SUI) 2022', 'IFSC - Climbing World Cup (L,S) - Chamonix (FRA) 2022', 'IFSC - Climbing World Cup (L) - Briançon (FRA) 2022', 'IFSC - Climbing World Cup (L) - Koper (SLO) 2022', 'IFSC - Climbing World Cup (L,S) - Edinburgh (GBR) 2022', 'IFSC - Climbing World Cup (L,S) - Jakarta (INA) 2022', 'IFSC - Climbing World Cup (B&L) - Morioka, Iwate (JPN) 2022']\n",
      "['Select category', 'BOULDER Men', 'BOULDER Women']\n",
      "TEST\n"
     ]
    }
   ],
   "source": [
    "scraper = IFSCScraper()\n",
    "y, l, e, c = scraper.get_comp_links()"
   ]
  }
 ],
 "metadata": {
  "kernelspec": {
   "display_name": "Python 3 (ipykernel)",
   "language": "python",
   "name": "python3"
  },
  "language_info": {
   "codemirror_mode": {
    "name": "ipython",
    "version": 3
   },
   "file_extension": ".py",
   "mimetype": "text/x-python",
   "name": "python",
   "nbconvert_exporter": "python",
   "pygments_lexer": "ipython3",
   "version": "3.10.2"
  },
  "widgets": {
   "application/vnd.jupyter.widget-state+json": {
    "state": {},
    "version_major": 2,
    "version_minor": 0
   }
  }
 },
 "nbformat": 4,
 "nbformat_minor": 5
}
